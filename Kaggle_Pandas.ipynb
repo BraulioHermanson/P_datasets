{
  "nbformat": 4,
  "nbformat_minor": 0,
  "metadata": {
    "colab": {
      "name": "Kaggle_Pandas.ipynb",
      "provenance": [],
      "collapsed_sections": [],
      "authorship_tag": "ABX9TyPG7qVITtyGFL3kkYSs+MjW",
      "include_colab_link": true
    },
    "kernelspec": {
      "name": "python3",
      "display_name": "Python 3"
    },
    "language_info": {
      "name": "python"
    }
  },
  "cells": [
    {
      "cell_type": "markdown",
      "metadata": {
        "id": "view-in-github",
        "colab_type": "text"
      },
      "source": [
        "<a href=\"https://colab.research.google.com/github/BraulioHermanson/P_datasets/blob/main/Kaggle_Pandas.ipynb\" target=\"_parent\"><img src=\"https://colab.research.google.com/assets/colab-badge.svg\" alt=\"Open In Colab\"/></a>"
      ]
    },
    {
      "cell_type": "code",
      "metadata": {
        "id": "5yHUQzHOy9yd"
      },
      "source": [
        "import pandas as pd"
      ],
      "execution_count": 8,
      "outputs": []
    },
    {
      "cell_type": "code",
      "metadata": {
        "colab": {
          "base_uri": "https://localhost:8080/",
          "height": 111
        },
        "id": "NQwI4hCr3aIO",
        "outputId": "cd9de398-5017-43b8-ba83-f72e89a3af9c"
      },
      "source": [
        "pd.DataFrame({'Yes': [50, 21], 'No': [131, 2]})"
      ],
      "execution_count": 9,
      "outputs": [
        {
          "output_type": "execute_result",
          "data": {
            "text/html": [
              "<div>\n",
              "<style scoped>\n",
              "    .dataframe tbody tr th:only-of-type {\n",
              "        vertical-align: middle;\n",
              "    }\n",
              "\n",
              "    .dataframe tbody tr th {\n",
              "        vertical-align: top;\n",
              "    }\n",
              "\n",
              "    .dataframe thead th {\n",
              "        text-align: right;\n",
              "    }\n",
              "</style>\n",
              "<table border=\"1\" class=\"dataframe\">\n",
              "  <thead>\n",
              "    <tr style=\"text-align: right;\">\n",
              "      <th></th>\n",
              "      <th>Yes</th>\n",
              "      <th>No</th>\n",
              "    </tr>\n",
              "  </thead>\n",
              "  <tbody>\n",
              "    <tr>\n",
              "      <th>0</th>\n",
              "      <td>50</td>\n",
              "      <td>131</td>\n",
              "    </tr>\n",
              "    <tr>\n",
              "      <th>1</th>\n",
              "      <td>21</td>\n",
              "      <td>2</td>\n",
              "    </tr>\n",
              "  </tbody>\n",
              "</table>\n",
              "</div>"
            ],
            "text/plain": [
              "   Yes   No\n",
              "0   50  131\n",
              "1   21    2"
            ]
          },
          "metadata": {},
          "execution_count": 9
        }
      ]
    },
    {
      "cell_type": "code",
      "metadata": {
        "colab": {
          "base_uri": "https://localhost:8080/",
          "height": 111
        },
        "id": "hE-ZVJNi3-vA",
        "outputId": "4017116f-0c5c-4ed6-daaa-744fc51bf309"
      },
      "source": [
        "pd.DataFrame({'Bob': ['I liked it.', 'It was awful.'], 'Sue': ['Pretty good.', 'Bland.']})"
      ],
      "execution_count": 10,
      "outputs": [
        {
          "output_type": "execute_result",
          "data": {
            "text/html": [
              "<div>\n",
              "<style scoped>\n",
              "    .dataframe tbody tr th:only-of-type {\n",
              "        vertical-align: middle;\n",
              "    }\n",
              "\n",
              "    .dataframe tbody tr th {\n",
              "        vertical-align: top;\n",
              "    }\n",
              "\n",
              "    .dataframe thead th {\n",
              "        text-align: right;\n",
              "    }\n",
              "</style>\n",
              "<table border=\"1\" class=\"dataframe\">\n",
              "  <thead>\n",
              "    <tr style=\"text-align: right;\">\n",
              "      <th></th>\n",
              "      <th>Bob</th>\n",
              "      <th>Sue</th>\n",
              "    </tr>\n",
              "  </thead>\n",
              "  <tbody>\n",
              "    <tr>\n",
              "      <th>0</th>\n",
              "      <td>I liked it.</td>\n",
              "      <td>Pretty good.</td>\n",
              "    </tr>\n",
              "    <tr>\n",
              "      <th>1</th>\n",
              "      <td>It was awful.</td>\n",
              "      <td>Bland.</td>\n",
              "    </tr>\n",
              "  </tbody>\n",
              "</table>\n",
              "</div>"
            ],
            "text/plain": [
              "             Bob           Sue\n",
              "0    I liked it.  Pretty good.\n",
              "1  It was awful.        Bland."
            ]
          },
          "metadata": {},
          "execution_count": 10
        }
      ]
    },
    {
      "cell_type": "code",
      "metadata": {
        "colab": {
          "base_uri": "https://localhost:8080/",
          "height": 111
        },
        "id": "O0g4tiow4JV6",
        "outputId": "4d7be89f-77ba-4e36-99ba-c3b1ec863385"
      },
      "source": [
        "pd.DataFrame({'Bob': ['I liked it.', 'It was awful.'], \n",
        "              'Sue': ['Pretty good.', 'Bland.']},\n",
        "             index=['Product A', 'Product B'])"
      ],
      "execution_count": 11,
      "outputs": [
        {
          "output_type": "execute_result",
          "data": {
            "text/html": [
              "<div>\n",
              "<style scoped>\n",
              "    .dataframe tbody tr th:only-of-type {\n",
              "        vertical-align: middle;\n",
              "    }\n",
              "\n",
              "    .dataframe tbody tr th {\n",
              "        vertical-align: top;\n",
              "    }\n",
              "\n",
              "    .dataframe thead th {\n",
              "        text-align: right;\n",
              "    }\n",
              "</style>\n",
              "<table border=\"1\" class=\"dataframe\">\n",
              "  <thead>\n",
              "    <tr style=\"text-align: right;\">\n",
              "      <th></th>\n",
              "      <th>Bob</th>\n",
              "      <th>Sue</th>\n",
              "    </tr>\n",
              "  </thead>\n",
              "  <tbody>\n",
              "    <tr>\n",
              "      <th>Product A</th>\n",
              "      <td>I liked it.</td>\n",
              "      <td>Pretty good.</td>\n",
              "    </tr>\n",
              "    <tr>\n",
              "      <th>Product B</th>\n",
              "      <td>It was awful.</td>\n",
              "      <td>Bland.</td>\n",
              "    </tr>\n",
              "  </tbody>\n",
              "</table>\n",
              "</div>"
            ],
            "text/plain": [
              "                     Bob           Sue\n",
              "Product A    I liked it.  Pretty good.\n",
              "Product B  It was awful.        Bland."
            ]
          },
          "metadata": {},
          "execution_count": 11
        }
      ]
    },
    {
      "cell_type": "code",
      "metadata": {
        "colab": {
          "base_uri": "https://localhost:8080/"
        },
        "id": "8il4INSt5il7",
        "outputId": "daacdb1d-c3f7-4f1e-c3f9-bc0154701e36"
      },
      "source": [
        "pd.Series([1, 2, 3, 4, 5])"
      ],
      "execution_count": 12,
      "outputs": [
        {
          "output_type": "execute_result",
          "data": {
            "text/plain": [
              "0    1\n",
              "1    2\n",
              "2    3\n",
              "3    4\n",
              "4    5\n",
              "dtype: int64"
            ]
          },
          "metadata": {},
          "execution_count": 12
        }
      ]
    },
    {
      "cell_type": "code",
      "metadata": {
        "colab": {
          "base_uri": "https://localhost:8080/"
        },
        "id": "_9Kek51T5u1B",
        "outputId": "af75629d-4035-44da-ce28-08897432e401"
      },
      "source": [
        "pd.Series([30, 35, 40], index=['2015 Sales', '2016 Sales', '2017 Sales'], name='Product A')"
      ],
      "execution_count": 13,
      "outputs": [
        {
          "output_type": "execute_result",
          "data": {
            "text/plain": [
              "2015 Sales    30\n",
              "2016 Sales    35\n",
              "2017 Sales    40\n",
              "Name: Product A, dtype: int64"
            ]
          },
          "metadata": {},
          "execution_count": 13
        }
      ]
    },
    {
      "cell_type": "code",
      "metadata": {
        "id": "KrHH_Xl575fj"
      },
      "source": [
        "wine_reviews = pd.read_csv(\"/content/winemag-data-130k-v2.csv\",index_col=0)\n",
        "pd.set_option('max_rows', 5)"
      ],
      "execution_count": 14,
      "outputs": []
    },
    {
      "cell_type": "code",
      "metadata": {
        "colab": {
          "base_uri": "https://localhost:8080/"
        },
        "id": "nuDGpVAi9WjT",
        "outputId": "3f478077-498e-49af-d275-d476985eeef2"
      },
      "source": [
        "wine_reviews.info()"
      ],
      "execution_count": 15,
      "outputs": [
        {
          "output_type": "stream",
          "name": "stdout",
          "text": [
            "<class 'pandas.core.frame.DataFrame'>\n",
            "Int64Index: 129971 entries, 0 to 129970\n",
            "Data columns (total 13 columns):\n",
            " #   Column                 Non-Null Count   Dtype  \n",
            "---  ------                 --------------   -----  \n",
            " 0   country                129908 non-null  object \n",
            " 1   description            129971 non-null  object \n",
            " 2   designation            92506 non-null   object \n",
            " 3   points                 129971 non-null  int64  \n",
            " 4   price                  120975 non-null  float64\n",
            " 5   province               129908 non-null  object \n",
            " 6   region_1               108724 non-null  object \n",
            " 7   region_2               50511 non-null   object \n",
            " 8   taster_name            103727 non-null  object \n",
            " 9   taster_twitter_handle  98758 non-null   object \n",
            " 10  title                  129971 non-null  object \n",
            " 11  variety                129970 non-null  object \n",
            " 12  winery                 129971 non-null  object \n",
            "dtypes: float64(1), int64(1), object(11)\n",
            "memory usage: 13.9+ MB\n"
          ]
        }
      ]
    },
    {
      "cell_type": "code",
      "metadata": {
        "colab": {
          "base_uri": "https://localhost:8080/"
        },
        "id": "3PQo9_tj9i1I",
        "outputId": "90775bc1-c35f-4e1e-f196-33eb0497afb4"
      },
      "source": [
        "wine_reviews.shape"
      ],
      "execution_count": 16,
      "outputs": [
        {
          "output_type": "execute_result",
          "data": {
            "text/plain": [
              "(129971, 13)"
            ]
          },
          "metadata": {},
          "execution_count": 16
        }
      ]
    },
    {
      "cell_type": "code",
      "metadata": {
        "colab": {
          "base_uri": "https://localhost:8080/",
          "height": 476
        },
        "id": "vk08Lsra9wk9",
        "outputId": "76b1a946-96cb-48e2-b203-7159891aa313"
      },
      "source": [
        "wine_reviews.head()"
      ],
      "execution_count": 17,
      "outputs": [
        {
          "output_type": "execute_result",
          "data": {
            "text/html": [
              "<div>\n",
              "<style scoped>\n",
              "    .dataframe tbody tr th:only-of-type {\n",
              "        vertical-align: middle;\n",
              "    }\n",
              "\n",
              "    .dataframe tbody tr th {\n",
              "        vertical-align: top;\n",
              "    }\n",
              "\n",
              "    .dataframe thead th {\n",
              "        text-align: right;\n",
              "    }\n",
              "</style>\n",
              "<table border=\"1\" class=\"dataframe\">\n",
              "  <thead>\n",
              "    <tr style=\"text-align: right;\">\n",
              "      <th></th>\n",
              "      <th>country</th>\n",
              "      <th>description</th>\n",
              "      <th>designation</th>\n",
              "      <th>points</th>\n",
              "      <th>price</th>\n",
              "      <th>province</th>\n",
              "      <th>region_1</th>\n",
              "      <th>region_2</th>\n",
              "      <th>taster_name</th>\n",
              "      <th>taster_twitter_handle</th>\n",
              "      <th>title</th>\n",
              "      <th>variety</th>\n",
              "      <th>winery</th>\n",
              "    </tr>\n",
              "  </thead>\n",
              "  <tbody>\n",
              "    <tr>\n",
              "      <th>0</th>\n",
              "      <td>Italy</td>\n",
              "      <td>Aromas include tropical fruit, broom, brimston...</td>\n",
              "      <td>Vulkà Bianco</td>\n",
              "      <td>87</td>\n",
              "      <td>NaN</td>\n",
              "      <td>Sicily &amp; Sardinia</td>\n",
              "      <td>Etna</td>\n",
              "      <td>NaN</td>\n",
              "      <td>Kerin O’Keefe</td>\n",
              "      <td>@kerinokeefe</td>\n",
              "      <td>Nicosia 2013 Vulkà Bianco  (Etna)</td>\n",
              "      <td>White Blend</td>\n",
              "      <td>Nicosia</td>\n",
              "    </tr>\n",
              "    <tr>\n",
              "      <th>1</th>\n",
              "      <td>Portugal</td>\n",
              "      <td>This is ripe and fruity, a wine that is smooth...</td>\n",
              "      <td>Avidagos</td>\n",
              "      <td>87</td>\n",
              "      <td>15.0</td>\n",
              "      <td>Douro</td>\n",
              "      <td>NaN</td>\n",
              "      <td>NaN</td>\n",
              "      <td>Roger Voss</td>\n",
              "      <td>@vossroger</td>\n",
              "      <td>Quinta dos Avidagos 2011 Avidagos Red (Douro)</td>\n",
              "      <td>Portuguese Red</td>\n",
              "      <td>Quinta dos Avidagos</td>\n",
              "    </tr>\n",
              "    <tr>\n",
              "      <th>2</th>\n",
              "      <td>US</td>\n",
              "      <td>Tart and snappy, the flavors of lime flesh and...</td>\n",
              "      <td>NaN</td>\n",
              "      <td>87</td>\n",
              "      <td>14.0</td>\n",
              "      <td>Oregon</td>\n",
              "      <td>Willamette Valley</td>\n",
              "      <td>Willamette Valley</td>\n",
              "      <td>Paul Gregutt</td>\n",
              "      <td>@paulgwine</td>\n",
              "      <td>Rainstorm 2013 Pinot Gris (Willamette Valley)</td>\n",
              "      <td>Pinot Gris</td>\n",
              "      <td>Rainstorm</td>\n",
              "    </tr>\n",
              "    <tr>\n",
              "      <th>3</th>\n",
              "      <td>US</td>\n",
              "      <td>Pineapple rind, lemon pith and orange blossom ...</td>\n",
              "      <td>Reserve Late Harvest</td>\n",
              "      <td>87</td>\n",
              "      <td>13.0</td>\n",
              "      <td>Michigan</td>\n",
              "      <td>Lake Michigan Shore</td>\n",
              "      <td>NaN</td>\n",
              "      <td>Alexander Peartree</td>\n",
              "      <td>NaN</td>\n",
              "      <td>St. Julian 2013 Reserve Late Harvest Riesling ...</td>\n",
              "      <td>Riesling</td>\n",
              "      <td>St. Julian</td>\n",
              "    </tr>\n",
              "    <tr>\n",
              "      <th>4</th>\n",
              "      <td>US</td>\n",
              "      <td>Much like the regular bottling from 2012, this...</td>\n",
              "      <td>Vintner's Reserve Wild Child Block</td>\n",
              "      <td>87</td>\n",
              "      <td>65.0</td>\n",
              "      <td>Oregon</td>\n",
              "      <td>Willamette Valley</td>\n",
              "      <td>Willamette Valley</td>\n",
              "      <td>Paul Gregutt</td>\n",
              "      <td>@paulgwine</td>\n",
              "      <td>Sweet Cheeks 2012 Vintner's Reserve Wild Child...</td>\n",
              "      <td>Pinot Noir</td>\n",
              "      <td>Sweet Cheeks</td>\n",
              "    </tr>\n",
              "  </tbody>\n",
              "</table>\n",
              "</div>"
            ],
            "text/plain": [
              "    country  ...               winery\n",
              "0     Italy  ...              Nicosia\n",
              "1  Portugal  ...  Quinta dos Avidagos\n",
              "2        US  ...            Rainstorm\n",
              "3        US  ...           St. Julian\n",
              "4        US  ...         Sweet Cheeks\n",
              "\n",
              "[5 rows x 13 columns]"
            ]
          },
          "metadata": {},
          "execution_count": 17
        }
      ]
    },
    {
      "cell_type": "code",
      "metadata": {
        "colab": {
          "base_uri": "https://localhost:8080/"
        },
        "id": "CJ9ixh6IFuGU",
        "outputId": "4ebddea9-ed38-4caf-b9ad-8683caccc8e6"
      },
      "source": [
        "wine_reviews['country']"
      ],
      "execution_count": 18,
      "outputs": [
        {
          "output_type": "execute_result",
          "data": {
            "text/plain": [
              "0            Italy\n",
              "1         Portugal\n",
              "            ...   \n",
              "129969      France\n",
              "129970      France\n",
              "Name: country, Length: 129971, dtype: object"
            ]
          },
          "metadata": {},
          "execution_count": 18
        }
      ]
    },
    {
      "cell_type": "code",
      "metadata": {
        "colab": {
          "base_uri": "https://localhost:8080/",
          "height": 35
        },
        "id": "NSZt2BSUFy33",
        "outputId": "a88090de-6e70-41c9-c85f-d4e7c058d0fd"
      },
      "source": [
        "wine_reviews['country'][1]"
      ],
      "execution_count": 19,
      "outputs": [
        {
          "output_type": "execute_result",
          "data": {
            "application/vnd.google.colaboratory.intrinsic+json": {
              "type": "string"
            },
            "text/plain": [
              "'Portugal'"
            ]
          },
          "metadata": {},
          "execution_count": 19
        }
      ]
    },
    {
      "cell_type": "code",
      "metadata": {
        "colab": {
          "base_uri": "https://localhost:8080/"
        },
        "id": "4cXA7j6TGP6R",
        "outputId": "977efc92-cfc0-471f-ef88-9f018de68399"
      },
      "source": [
        "wine_reviews.iloc[1]"
      ],
      "execution_count": 20,
      "outputs": [
        {
          "output_type": "execute_result",
          "data": {
            "text/plain": [
              "country                                                 Portugal\n",
              "description    This is ripe and fruity, a wine that is smooth...\n",
              "                                     ...                        \n",
              "variety                                           Portuguese Red\n",
              "winery                                       Quinta dos Avidagos\n",
              "Name: 1, Length: 13, dtype: object"
            ]
          },
          "metadata": {},
          "execution_count": 20
        }
      ]
    },
    {
      "cell_type": "code",
      "metadata": {
        "colab": {
          "base_uri": "https://localhost:8080/",
          "height": 52
        },
        "id": "60dc3pSdGTwe",
        "outputId": "b607f1a9-5e1c-44e8-8108-149ee469f63f"
      },
      "source": [
        "wine_reviews.iloc[1,1]"
      ],
      "execution_count": 21,
      "outputs": [
        {
          "output_type": "execute_result",
          "data": {
            "application/vnd.google.colaboratory.intrinsic+json": {
              "type": "string"
            },
            "text/plain": [
              "\"This is ripe and fruity, a wine that is smooth while still structured. Firm tannins are filled out with juicy red berry fruits and freshened with acidity. It's  already drinkable, although it will certainly be better from 2016.\""
            ]
          },
          "metadata": {},
          "execution_count": 21
        }
      ]
    },
    {
      "cell_type": "code",
      "metadata": {
        "colab": {
          "base_uri": "https://localhost:8080/"
        },
        "id": "lxSp0QGRGrbE",
        "outputId": "6a9ec869-033d-45d0-eed0-c483dd5b5b3a"
      },
      "source": [
        "wine_reviews.iloc[:,0]"
      ],
      "execution_count": 22,
      "outputs": [
        {
          "output_type": "execute_result",
          "data": {
            "text/plain": [
              "0            Italy\n",
              "1         Portugal\n",
              "            ...   \n",
              "129969      France\n",
              "129970      France\n",
              "Name: country, Length: 129971, dtype: object"
            ]
          },
          "metadata": {},
          "execution_count": 22
        }
      ]
    },
    {
      "cell_type": "code",
      "metadata": {
        "colab": {
          "base_uri": "https://localhost:8080/"
        },
        "id": "wzd6ETmPG5dS",
        "outputId": "37809b6e-db63-4017-8dac-711069ee2cfa"
      },
      "source": [
        "wine_reviews.iloc[:3,0]"
      ],
      "execution_count": 23,
      "outputs": [
        {
          "output_type": "execute_result",
          "data": {
            "text/plain": [
              "0       Italy\n",
              "1    Portugal\n",
              "2          US\n",
              "Name: country, dtype: object"
            ]
          },
          "metadata": {},
          "execution_count": 23
        }
      ]
    },
    {
      "cell_type": "code",
      "metadata": {
        "colab": {
          "base_uri": "https://localhost:8080/"
        },
        "id": "EgH8XU4tG-WH",
        "outputId": "6588245f-c385-41f1-b6e9-2ad75df11066"
      },
      "source": [
        "wine_reviews.iloc[1:3,0]"
      ],
      "execution_count": 24,
      "outputs": [
        {
          "output_type": "execute_result",
          "data": {
            "text/plain": [
              "1    Portugal\n",
              "2          US\n",
              "Name: country, dtype: object"
            ]
          },
          "metadata": {},
          "execution_count": 24
        }
      ]
    },
    {
      "cell_type": "code",
      "metadata": {
        "colab": {
          "base_uri": "https://localhost:8080/"
        },
        "id": "gU59viTMHFFe",
        "outputId": "b9db35c6-814b-42bd-bcae-5f4bbe2db47b"
      },
      "source": [
        "wine_reviews.iloc[[0,1,2],0]"
      ],
      "execution_count": 25,
      "outputs": [
        {
          "output_type": "execute_result",
          "data": {
            "text/plain": [
              "0       Italy\n",
              "1    Portugal\n",
              "2          US\n",
              "Name: country, dtype: object"
            ]
          },
          "metadata": {},
          "execution_count": 25
        }
      ]
    },
    {
      "cell_type": "code",
      "metadata": {
        "colab": {
          "base_uri": "https://localhost:8080/",
          "height": 530
        },
        "id": "t-fEW187HSle",
        "outputId": "44e4176d-9ce0-4ee9-9384-50bdd99b74b3"
      },
      "source": [
        "wine_reviews.iloc[-5:]"
      ],
      "execution_count": 26,
      "outputs": [
        {
          "output_type": "execute_result",
          "data": {
            "text/html": [
              "<div>\n",
              "<style scoped>\n",
              "    .dataframe tbody tr th:only-of-type {\n",
              "        vertical-align: middle;\n",
              "    }\n",
              "\n",
              "    .dataframe tbody tr th {\n",
              "        vertical-align: top;\n",
              "    }\n",
              "\n",
              "    .dataframe thead th {\n",
              "        text-align: right;\n",
              "    }\n",
              "</style>\n",
              "<table border=\"1\" class=\"dataframe\">\n",
              "  <thead>\n",
              "    <tr style=\"text-align: right;\">\n",
              "      <th></th>\n",
              "      <th>country</th>\n",
              "      <th>description</th>\n",
              "      <th>designation</th>\n",
              "      <th>points</th>\n",
              "      <th>price</th>\n",
              "      <th>province</th>\n",
              "      <th>region_1</th>\n",
              "      <th>region_2</th>\n",
              "      <th>taster_name</th>\n",
              "      <th>taster_twitter_handle</th>\n",
              "      <th>title</th>\n",
              "      <th>variety</th>\n",
              "      <th>winery</th>\n",
              "    </tr>\n",
              "  </thead>\n",
              "  <tbody>\n",
              "    <tr>\n",
              "      <th>129966</th>\n",
              "      <td>Germany</td>\n",
              "      <td>Notes of honeysuckle and cantaloupe sweeten th...</td>\n",
              "      <td>Brauneberger Juffer-Sonnenuhr Spätlese</td>\n",
              "      <td>90</td>\n",
              "      <td>28.0</td>\n",
              "      <td>Mosel</td>\n",
              "      <td>NaN</td>\n",
              "      <td>NaN</td>\n",
              "      <td>Anna Lee C. Iijima</td>\n",
              "      <td>NaN</td>\n",
              "      <td>Dr. H. Thanisch (Erben Müller-Burggraef) 2013 ...</td>\n",
              "      <td>Riesling</td>\n",
              "      <td>Dr. H. Thanisch (Erben Müller-Burggraef)</td>\n",
              "    </tr>\n",
              "    <tr>\n",
              "      <th>129967</th>\n",
              "      <td>US</td>\n",
              "      <td>Citation is given as much as a decade of bottl...</td>\n",
              "      <td>NaN</td>\n",
              "      <td>90</td>\n",
              "      <td>75.0</td>\n",
              "      <td>Oregon</td>\n",
              "      <td>Oregon</td>\n",
              "      <td>Oregon Other</td>\n",
              "      <td>Paul Gregutt</td>\n",
              "      <td>@paulgwine</td>\n",
              "      <td>Citation 2004 Pinot Noir (Oregon)</td>\n",
              "      <td>Pinot Noir</td>\n",
              "      <td>Citation</td>\n",
              "    </tr>\n",
              "    <tr>\n",
              "      <th>129968</th>\n",
              "      <td>France</td>\n",
              "      <td>Well-drained gravel soil gives this wine its c...</td>\n",
              "      <td>Kritt</td>\n",
              "      <td>90</td>\n",
              "      <td>30.0</td>\n",
              "      <td>Alsace</td>\n",
              "      <td>Alsace</td>\n",
              "      <td>NaN</td>\n",
              "      <td>Roger Voss</td>\n",
              "      <td>@vossroger</td>\n",
              "      <td>Domaine Gresser 2013 Kritt Gewurztraminer (Als...</td>\n",
              "      <td>Gewürztraminer</td>\n",
              "      <td>Domaine Gresser</td>\n",
              "    </tr>\n",
              "    <tr>\n",
              "      <th>129969</th>\n",
              "      <td>France</td>\n",
              "      <td>A dry style of Pinot Gris, this is crisp with ...</td>\n",
              "      <td>NaN</td>\n",
              "      <td>90</td>\n",
              "      <td>32.0</td>\n",
              "      <td>Alsace</td>\n",
              "      <td>Alsace</td>\n",
              "      <td>NaN</td>\n",
              "      <td>Roger Voss</td>\n",
              "      <td>@vossroger</td>\n",
              "      <td>Domaine Marcel Deiss 2012 Pinot Gris (Alsace)</td>\n",
              "      <td>Pinot Gris</td>\n",
              "      <td>Domaine Marcel Deiss</td>\n",
              "    </tr>\n",
              "    <tr>\n",
              "      <th>129970</th>\n",
              "      <td>France</td>\n",
              "      <td>Big, rich and off-dry, this is powered by inte...</td>\n",
              "      <td>Lieu-dit Harth Cuvée Caroline</td>\n",
              "      <td>90</td>\n",
              "      <td>21.0</td>\n",
              "      <td>Alsace</td>\n",
              "      <td>Alsace</td>\n",
              "      <td>NaN</td>\n",
              "      <td>Roger Voss</td>\n",
              "      <td>@vossroger</td>\n",
              "      <td>Domaine Schoffit 2012 Lieu-dit Harth Cuvée Car...</td>\n",
              "      <td>Gewürztraminer</td>\n",
              "      <td>Domaine Schoffit</td>\n",
              "    </tr>\n",
              "  </tbody>\n",
              "</table>\n",
              "</div>"
            ],
            "text/plain": [
              "        country  ...                                    winery\n",
              "129966  Germany  ...  Dr. H. Thanisch (Erben Müller-Burggraef)\n",
              "129967       US  ...                                  Citation\n",
              "129968   France  ...                           Domaine Gresser\n",
              "129969   France  ...                      Domaine Marcel Deiss\n",
              "129970   France  ...                          Domaine Schoffit\n",
              "\n",
              "[5 rows x 13 columns]"
            ]
          },
          "metadata": {},
          "execution_count": 26
        }
      ]
    },
    {
      "cell_type": "code",
      "metadata": {
        "colab": {
          "base_uri": "https://localhost:8080/",
          "height": 35
        },
        "id": "C2bzrao3Ji2R",
        "outputId": "20351ebe-b0da-45f8-ef13-cf4af60cb8dc"
      },
      "source": [
        "wine_reviews.loc[0,'country']"
      ],
      "execution_count": 27,
      "outputs": [
        {
          "output_type": "execute_result",
          "data": {
            "application/vnd.google.colaboratory.intrinsic+json": {
              "type": "string"
            },
            "text/plain": [
              "'Italy'"
            ]
          },
          "metadata": {},
          "execution_count": 27
        }
      ]
    },
    {
      "cell_type": "code",
      "metadata": {
        "colab": {
          "base_uri": "https://localhost:8080/",
          "height": 233
        },
        "id": "kcphQFkgJnmJ",
        "outputId": "d708b021-6fa2-410a-833d-1d1625211614"
      },
      "source": [
        "wine_reviews.loc[:, ['taster_name', 'taster_twitter_handle', 'points']]"
      ],
      "execution_count": 28,
      "outputs": [
        {
          "output_type": "execute_result",
          "data": {
            "text/html": [
              "<div>\n",
              "<style scoped>\n",
              "    .dataframe tbody tr th:only-of-type {\n",
              "        vertical-align: middle;\n",
              "    }\n",
              "\n",
              "    .dataframe tbody tr th {\n",
              "        vertical-align: top;\n",
              "    }\n",
              "\n",
              "    .dataframe thead th {\n",
              "        text-align: right;\n",
              "    }\n",
              "</style>\n",
              "<table border=\"1\" class=\"dataframe\">\n",
              "  <thead>\n",
              "    <tr style=\"text-align: right;\">\n",
              "      <th></th>\n",
              "      <th>taster_name</th>\n",
              "      <th>taster_twitter_handle</th>\n",
              "      <th>points</th>\n",
              "    </tr>\n",
              "  </thead>\n",
              "  <tbody>\n",
              "    <tr>\n",
              "      <th>0</th>\n",
              "      <td>Kerin O’Keefe</td>\n",
              "      <td>@kerinokeefe</td>\n",
              "      <td>87</td>\n",
              "    </tr>\n",
              "    <tr>\n",
              "      <th>1</th>\n",
              "      <td>Roger Voss</td>\n",
              "      <td>@vossroger</td>\n",
              "      <td>87</td>\n",
              "    </tr>\n",
              "    <tr>\n",
              "      <th>...</th>\n",
              "      <td>...</td>\n",
              "      <td>...</td>\n",
              "      <td>...</td>\n",
              "    </tr>\n",
              "    <tr>\n",
              "      <th>129969</th>\n",
              "      <td>Roger Voss</td>\n",
              "      <td>@vossroger</td>\n",
              "      <td>90</td>\n",
              "    </tr>\n",
              "    <tr>\n",
              "      <th>129970</th>\n",
              "      <td>Roger Voss</td>\n",
              "      <td>@vossroger</td>\n",
              "      <td>90</td>\n",
              "    </tr>\n",
              "  </tbody>\n",
              "</table>\n",
              "<p>129971 rows × 3 columns</p>\n",
              "</div>"
            ],
            "text/plain": [
              "          taster_name taster_twitter_handle  points\n",
              "0       Kerin O’Keefe          @kerinokeefe      87\n",
              "1          Roger Voss            @vossroger      87\n",
              "...               ...                   ...     ...\n",
              "129969     Roger Voss            @vossroger      90\n",
              "129970     Roger Voss            @vossroger      90\n",
              "\n",
              "[129971 rows x 3 columns]"
            ]
          },
          "metadata": {},
          "execution_count": 28
        }
      ]
    },
    {
      "cell_type": "markdown",
      "metadata": {
        "id": "VEZF7TQpLBhq"
      },
      "source": [
        "`iloc` uses the Python stdlib indexing scheme, where the first element of the range is included and the last one excluded. So 0:10 will select entries 0,...,9. `loc`, meanwhile, indexes inclusively. So 0:10 will select entries 0,...,10."
      ]
    },
    {
      "cell_type": "code",
      "metadata": {
        "colab": {
          "base_uri": "https://localhost:8080/",
          "height": 476
        },
        "id": "aIX7fJS3K3E4",
        "outputId": "2f1eae15-0588-4d65-b963-f4f43ecf0aa3"
      },
      "source": [
        "wine_reviews.head()"
      ],
      "execution_count": 29,
      "outputs": [
        {
          "output_type": "execute_result",
          "data": {
            "text/html": [
              "<div>\n",
              "<style scoped>\n",
              "    .dataframe tbody tr th:only-of-type {\n",
              "        vertical-align: middle;\n",
              "    }\n",
              "\n",
              "    .dataframe tbody tr th {\n",
              "        vertical-align: top;\n",
              "    }\n",
              "\n",
              "    .dataframe thead th {\n",
              "        text-align: right;\n",
              "    }\n",
              "</style>\n",
              "<table border=\"1\" class=\"dataframe\">\n",
              "  <thead>\n",
              "    <tr style=\"text-align: right;\">\n",
              "      <th></th>\n",
              "      <th>country</th>\n",
              "      <th>description</th>\n",
              "      <th>designation</th>\n",
              "      <th>points</th>\n",
              "      <th>price</th>\n",
              "      <th>province</th>\n",
              "      <th>region_1</th>\n",
              "      <th>region_2</th>\n",
              "      <th>taster_name</th>\n",
              "      <th>taster_twitter_handle</th>\n",
              "      <th>title</th>\n",
              "      <th>variety</th>\n",
              "      <th>winery</th>\n",
              "    </tr>\n",
              "  </thead>\n",
              "  <tbody>\n",
              "    <tr>\n",
              "      <th>0</th>\n",
              "      <td>Italy</td>\n",
              "      <td>Aromas include tropical fruit, broom, brimston...</td>\n",
              "      <td>Vulkà Bianco</td>\n",
              "      <td>87</td>\n",
              "      <td>NaN</td>\n",
              "      <td>Sicily &amp; Sardinia</td>\n",
              "      <td>Etna</td>\n",
              "      <td>NaN</td>\n",
              "      <td>Kerin O’Keefe</td>\n",
              "      <td>@kerinokeefe</td>\n",
              "      <td>Nicosia 2013 Vulkà Bianco  (Etna)</td>\n",
              "      <td>White Blend</td>\n",
              "      <td>Nicosia</td>\n",
              "    </tr>\n",
              "    <tr>\n",
              "      <th>1</th>\n",
              "      <td>Portugal</td>\n",
              "      <td>This is ripe and fruity, a wine that is smooth...</td>\n",
              "      <td>Avidagos</td>\n",
              "      <td>87</td>\n",
              "      <td>15.0</td>\n",
              "      <td>Douro</td>\n",
              "      <td>NaN</td>\n",
              "      <td>NaN</td>\n",
              "      <td>Roger Voss</td>\n",
              "      <td>@vossroger</td>\n",
              "      <td>Quinta dos Avidagos 2011 Avidagos Red (Douro)</td>\n",
              "      <td>Portuguese Red</td>\n",
              "      <td>Quinta dos Avidagos</td>\n",
              "    </tr>\n",
              "    <tr>\n",
              "      <th>2</th>\n",
              "      <td>US</td>\n",
              "      <td>Tart and snappy, the flavors of lime flesh and...</td>\n",
              "      <td>NaN</td>\n",
              "      <td>87</td>\n",
              "      <td>14.0</td>\n",
              "      <td>Oregon</td>\n",
              "      <td>Willamette Valley</td>\n",
              "      <td>Willamette Valley</td>\n",
              "      <td>Paul Gregutt</td>\n",
              "      <td>@paulgwine</td>\n",
              "      <td>Rainstorm 2013 Pinot Gris (Willamette Valley)</td>\n",
              "      <td>Pinot Gris</td>\n",
              "      <td>Rainstorm</td>\n",
              "    </tr>\n",
              "    <tr>\n",
              "      <th>3</th>\n",
              "      <td>US</td>\n",
              "      <td>Pineapple rind, lemon pith and orange blossom ...</td>\n",
              "      <td>Reserve Late Harvest</td>\n",
              "      <td>87</td>\n",
              "      <td>13.0</td>\n",
              "      <td>Michigan</td>\n",
              "      <td>Lake Michigan Shore</td>\n",
              "      <td>NaN</td>\n",
              "      <td>Alexander Peartree</td>\n",
              "      <td>NaN</td>\n",
              "      <td>St. Julian 2013 Reserve Late Harvest Riesling ...</td>\n",
              "      <td>Riesling</td>\n",
              "      <td>St. Julian</td>\n",
              "    </tr>\n",
              "    <tr>\n",
              "      <th>4</th>\n",
              "      <td>US</td>\n",
              "      <td>Much like the regular bottling from 2012, this...</td>\n",
              "      <td>Vintner's Reserve Wild Child Block</td>\n",
              "      <td>87</td>\n",
              "      <td>65.0</td>\n",
              "      <td>Oregon</td>\n",
              "      <td>Willamette Valley</td>\n",
              "      <td>Willamette Valley</td>\n",
              "      <td>Paul Gregutt</td>\n",
              "      <td>@paulgwine</td>\n",
              "      <td>Sweet Cheeks 2012 Vintner's Reserve Wild Child...</td>\n",
              "      <td>Pinot Noir</td>\n",
              "      <td>Sweet Cheeks</td>\n",
              "    </tr>\n",
              "  </tbody>\n",
              "</table>\n",
              "</div>"
            ],
            "text/plain": [
              "    country  ...               winery\n",
              "0     Italy  ...              Nicosia\n",
              "1  Portugal  ...  Quinta dos Avidagos\n",
              "2        US  ...            Rainstorm\n",
              "3        US  ...           St. Julian\n",
              "4        US  ...         Sweet Cheeks\n",
              "\n",
              "[5 rows x 13 columns]"
            ]
          },
          "metadata": {},
          "execution_count": 29
        }
      ]
    },
    {
      "cell_type": "code",
      "metadata": {
        "colab": {
          "base_uri": "https://localhost:8080/",
          "height": 468
        },
        "id": "qTRyhPyhacIM",
        "outputId": "a34c53f0-0ac2-4dd6-8f47-cd4157ed01bb"
      },
      "source": [
        "wine_reviews.set_index('title')"
      ],
      "execution_count": 30,
      "outputs": [
        {
          "output_type": "execute_result",
          "data": {
            "text/html": [
              "<div>\n",
              "<style scoped>\n",
              "    .dataframe tbody tr th:only-of-type {\n",
              "        vertical-align: middle;\n",
              "    }\n",
              "\n",
              "    .dataframe tbody tr th {\n",
              "        vertical-align: top;\n",
              "    }\n",
              "\n",
              "    .dataframe thead th {\n",
              "        text-align: right;\n",
              "    }\n",
              "</style>\n",
              "<table border=\"1\" class=\"dataframe\">\n",
              "  <thead>\n",
              "    <tr style=\"text-align: right;\">\n",
              "      <th></th>\n",
              "      <th>country</th>\n",
              "      <th>description</th>\n",
              "      <th>designation</th>\n",
              "      <th>points</th>\n",
              "      <th>price</th>\n",
              "      <th>province</th>\n",
              "      <th>region_1</th>\n",
              "      <th>region_2</th>\n",
              "      <th>taster_name</th>\n",
              "      <th>taster_twitter_handle</th>\n",
              "      <th>variety</th>\n",
              "      <th>winery</th>\n",
              "    </tr>\n",
              "    <tr>\n",
              "      <th>title</th>\n",
              "      <th></th>\n",
              "      <th></th>\n",
              "      <th></th>\n",
              "      <th></th>\n",
              "      <th></th>\n",
              "      <th></th>\n",
              "      <th></th>\n",
              "      <th></th>\n",
              "      <th></th>\n",
              "      <th></th>\n",
              "      <th></th>\n",
              "      <th></th>\n",
              "    </tr>\n",
              "  </thead>\n",
              "  <tbody>\n",
              "    <tr>\n",
              "      <th>Nicosia 2013 Vulkà Bianco  (Etna)</th>\n",
              "      <td>Italy</td>\n",
              "      <td>Aromas include tropical fruit, broom, brimston...</td>\n",
              "      <td>Vulkà Bianco</td>\n",
              "      <td>87</td>\n",
              "      <td>NaN</td>\n",
              "      <td>Sicily &amp; Sardinia</td>\n",
              "      <td>Etna</td>\n",
              "      <td>NaN</td>\n",
              "      <td>Kerin O’Keefe</td>\n",
              "      <td>@kerinokeefe</td>\n",
              "      <td>White Blend</td>\n",
              "      <td>Nicosia</td>\n",
              "    </tr>\n",
              "    <tr>\n",
              "      <th>Quinta dos Avidagos 2011 Avidagos Red (Douro)</th>\n",
              "      <td>Portugal</td>\n",
              "      <td>This is ripe and fruity, a wine that is smooth...</td>\n",
              "      <td>Avidagos</td>\n",
              "      <td>87</td>\n",
              "      <td>15.0</td>\n",
              "      <td>Douro</td>\n",
              "      <td>NaN</td>\n",
              "      <td>NaN</td>\n",
              "      <td>Roger Voss</td>\n",
              "      <td>@vossroger</td>\n",
              "      <td>Portuguese Red</td>\n",
              "      <td>Quinta dos Avidagos</td>\n",
              "    </tr>\n",
              "    <tr>\n",
              "      <th>...</th>\n",
              "      <td>...</td>\n",
              "      <td>...</td>\n",
              "      <td>...</td>\n",
              "      <td>...</td>\n",
              "      <td>...</td>\n",
              "      <td>...</td>\n",
              "      <td>...</td>\n",
              "      <td>...</td>\n",
              "      <td>...</td>\n",
              "      <td>...</td>\n",
              "      <td>...</td>\n",
              "      <td>...</td>\n",
              "    </tr>\n",
              "    <tr>\n",
              "      <th>Domaine Marcel Deiss 2012 Pinot Gris (Alsace)</th>\n",
              "      <td>France</td>\n",
              "      <td>A dry style of Pinot Gris, this is crisp with ...</td>\n",
              "      <td>NaN</td>\n",
              "      <td>90</td>\n",
              "      <td>32.0</td>\n",
              "      <td>Alsace</td>\n",
              "      <td>Alsace</td>\n",
              "      <td>NaN</td>\n",
              "      <td>Roger Voss</td>\n",
              "      <td>@vossroger</td>\n",
              "      <td>Pinot Gris</td>\n",
              "      <td>Domaine Marcel Deiss</td>\n",
              "    </tr>\n",
              "    <tr>\n",
              "      <th>Domaine Schoffit 2012 Lieu-dit Harth Cuvée Caroline Gewurztraminer (Alsace)</th>\n",
              "      <td>France</td>\n",
              "      <td>Big, rich and off-dry, this is powered by inte...</td>\n",
              "      <td>Lieu-dit Harth Cuvée Caroline</td>\n",
              "      <td>90</td>\n",
              "      <td>21.0</td>\n",
              "      <td>Alsace</td>\n",
              "      <td>Alsace</td>\n",
              "      <td>NaN</td>\n",
              "      <td>Roger Voss</td>\n",
              "      <td>@vossroger</td>\n",
              "      <td>Gewürztraminer</td>\n",
              "      <td>Domaine Schoffit</td>\n",
              "    </tr>\n",
              "  </tbody>\n",
              "</table>\n",
              "<p>129971 rows × 12 columns</p>\n",
              "</div>"
            ],
            "text/plain": [
              "                                                     country  ...                winery\n",
              "title                                                         ...                      \n",
              "Nicosia 2013 Vulkà Bianco  (Etna)                      Italy  ...               Nicosia\n",
              "Quinta dos Avidagos 2011 Avidagos Red (Douro)       Portugal  ...   Quinta dos Avidagos\n",
              "...                                                      ...  ...                   ...\n",
              "Domaine Marcel Deiss 2012 Pinot Gris (Alsace)         France  ...  Domaine Marcel Deiss\n",
              "Domaine Schoffit 2012 Lieu-dit Harth Cuvée Caro...    France  ...      Domaine Schoffit\n",
              "\n",
              "[129971 rows x 12 columns]"
            ]
          },
          "metadata": {},
          "execution_count": 30
        }
      ]
    },
    {
      "cell_type": "code",
      "metadata": {
        "colab": {
          "base_uri": "https://localhost:8080/"
        },
        "id": "dV-EvumUazUb",
        "outputId": "184ac248-4b0e-4dbc-caa1-c00ebfabc483"
      },
      "source": [
        "wine_reviews['country'] == 'Italy'"
      ],
      "execution_count": 31,
      "outputs": [
        {
          "output_type": "execute_result",
          "data": {
            "text/plain": [
              "0          True\n",
              "1         False\n",
              "          ...  \n",
              "129969    False\n",
              "129970    False\n",
              "Name: country, Length: 129971, dtype: bool"
            ]
          },
          "metadata": {},
          "execution_count": 31
        }
      ]
    },
    {
      "cell_type": "code",
      "metadata": {
        "colab": {
          "base_uri": "https://localhost:8080/",
          "height": 437
        },
        "id": "-5xi9KI4bGCD",
        "outputId": "d1afe4aa-18cc-424b-84de-0b9b19a525a7"
      },
      "source": [
        "wine_reviews.loc[wine_reviews['country'] == 'Italy']"
      ],
      "execution_count": 32,
      "outputs": [
        {
          "output_type": "execute_result",
          "data": {
            "text/html": [
              "<div>\n",
              "<style scoped>\n",
              "    .dataframe tbody tr th:only-of-type {\n",
              "        vertical-align: middle;\n",
              "    }\n",
              "\n",
              "    .dataframe tbody tr th {\n",
              "        vertical-align: top;\n",
              "    }\n",
              "\n",
              "    .dataframe thead th {\n",
              "        text-align: right;\n",
              "    }\n",
              "</style>\n",
              "<table border=\"1\" class=\"dataframe\">\n",
              "  <thead>\n",
              "    <tr style=\"text-align: right;\">\n",
              "      <th></th>\n",
              "      <th>country</th>\n",
              "      <th>description</th>\n",
              "      <th>designation</th>\n",
              "      <th>points</th>\n",
              "      <th>price</th>\n",
              "      <th>province</th>\n",
              "      <th>region_1</th>\n",
              "      <th>region_2</th>\n",
              "      <th>taster_name</th>\n",
              "      <th>taster_twitter_handle</th>\n",
              "      <th>title</th>\n",
              "      <th>variety</th>\n",
              "      <th>winery</th>\n",
              "    </tr>\n",
              "  </thead>\n",
              "  <tbody>\n",
              "    <tr>\n",
              "      <th>0</th>\n",
              "      <td>Italy</td>\n",
              "      <td>Aromas include tropical fruit, broom, brimston...</td>\n",
              "      <td>Vulkà Bianco</td>\n",
              "      <td>87</td>\n",
              "      <td>NaN</td>\n",
              "      <td>Sicily &amp; Sardinia</td>\n",
              "      <td>Etna</td>\n",
              "      <td>NaN</td>\n",
              "      <td>Kerin O’Keefe</td>\n",
              "      <td>@kerinokeefe</td>\n",
              "      <td>Nicosia 2013 Vulkà Bianco  (Etna)</td>\n",
              "      <td>White Blend</td>\n",
              "      <td>Nicosia</td>\n",
              "    </tr>\n",
              "    <tr>\n",
              "      <th>6</th>\n",
              "      <td>Italy</td>\n",
              "      <td>Here's a bright, informal red that opens with ...</td>\n",
              "      <td>Belsito</td>\n",
              "      <td>87</td>\n",
              "      <td>16.0</td>\n",
              "      <td>Sicily &amp; Sardinia</td>\n",
              "      <td>Vittoria</td>\n",
              "      <td>NaN</td>\n",
              "      <td>Kerin O’Keefe</td>\n",
              "      <td>@kerinokeefe</td>\n",
              "      <td>Terre di Giurfo 2013 Belsito Frappato (Vittoria)</td>\n",
              "      <td>Frappato</td>\n",
              "      <td>Terre di Giurfo</td>\n",
              "    </tr>\n",
              "    <tr>\n",
              "      <th>...</th>\n",
              "      <td>...</td>\n",
              "      <td>...</td>\n",
              "      <td>...</td>\n",
              "      <td>...</td>\n",
              "      <td>...</td>\n",
              "      <td>...</td>\n",
              "      <td>...</td>\n",
              "      <td>...</td>\n",
              "      <td>...</td>\n",
              "      <td>...</td>\n",
              "      <td>...</td>\n",
              "      <td>...</td>\n",
              "      <td>...</td>\n",
              "    </tr>\n",
              "    <tr>\n",
              "      <th>129961</th>\n",
              "      <td>Italy</td>\n",
              "      <td>Intense aromas of wild cherry, baking spice, t...</td>\n",
              "      <td>NaN</td>\n",
              "      <td>90</td>\n",
              "      <td>30.0</td>\n",
              "      <td>Sicily &amp; Sardinia</td>\n",
              "      <td>Sicilia</td>\n",
              "      <td>NaN</td>\n",
              "      <td>Kerin O’Keefe</td>\n",
              "      <td>@kerinokeefe</td>\n",
              "      <td>COS 2013 Frappato (Sicilia)</td>\n",
              "      <td>Frappato</td>\n",
              "      <td>COS</td>\n",
              "    </tr>\n",
              "    <tr>\n",
              "      <th>129962</th>\n",
              "      <td>Italy</td>\n",
              "      <td>Blackberry, cassis, grilled herb and toasted a...</td>\n",
              "      <td>Sàgana Tenuta San Giacomo</td>\n",
              "      <td>90</td>\n",
              "      <td>40.0</td>\n",
              "      <td>Sicily &amp; Sardinia</td>\n",
              "      <td>Sicilia</td>\n",
              "      <td>NaN</td>\n",
              "      <td>Kerin O’Keefe</td>\n",
              "      <td>@kerinokeefe</td>\n",
              "      <td>Cusumano 2012 Sàgana Tenuta San Giacomo Nero d...</td>\n",
              "      <td>Nero d'Avola</td>\n",
              "      <td>Cusumano</td>\n",
              "    </tr>\n",
              "  </tbody>\n",
              "</table>\n",
              "<p>19540 rows × 13 columns</p>\n",
              "</div>"
            ],
            "text/plain": [
              "       country  ...           winery\n",
              "0        Italy  ...          Nicosia\n",
              "6        Italy  ...  Terre di Giurfo\n",
              "...        ...  ...              ...\n",
              "129961   Italy  ...              COS\n",
              "129962   Italy  ...         Cusumano\n",
              "\n",
              "[19540 rows x 13 columns]"
            ]
          },
          "metadata": {},
          "execution_count": 32
        }
      ]
    },
    {
      "cell_type": "code",
      "metadata": {
        "colab": {
          "base_uri": "https://localhost:8080/",
          "height": 437
        },
        "id": "iFIWhC3hbms9",
        "outputId": "51462237-41bb-44bc-ba02-93f4a4a7cdc2"
      },
      "source": [
        "wine_reviews.loc[(wine_reviews['country'] == 'Italy') & (wine_reviews.points >= 90)]"
      ],
      "execution_count": 33,
      "outputs": [
        {
          "output_type": "execute_result",
          "data": {
            "text/html": [
              "<div>\n",
              "<style scoped>\n",
              "    .dataframe tbody tr th:only-of-type {\n",
              "        vertical-align: middle;\n",
              "    }\n",
              "\n",
              "    .dataframe tbody tr th {\n",
              "        vertical-align: top;\n",
              "    }\n",
              "\n",
              "    .dataframe thead th {\n",
              "        text-align: right;\n",
              "    }\n",
              "</style>\n",
              "<table border=\"1\" class=\"dataframe\">\n",
              "  <thead>\n",
              "    <tr style=\"text-align: right;\">\n",
              "      <th></th>\n",
              "      <th>country</th>\n",
              "      <th>description</th>\n",
              "      <th>designation</th>\n",
              "      <th>points</th>\n",
              "      <th>price</th>\n",
              "      <th>province</th>\n",
              "      <th>region_1</th>\n",
              "      <th>region_2</th>\n",
              "      <th>taster_name</th>\n",
              "      <th>taster_twitter_handle</th>\n",
              "      <th>title</th>\n",
              "      <th>variety</th>\n",
              "      <th>winery</th>\n",
              "    </tr>\n",
              "  </thead>\n",
              "  <tbody>\n",
              "    <tr>\n",
              "      <th>120</th>\n",
              "      <td>Italy</td>\n",
              "      <td>Slightly backward, particularly given the vint...</td>\n",
              "      <td>Bricco Rocche Prapó</td>\n",
              "      <td>92</td>\n",
              "      <td>70.0</td>\n",
              "      <td>Piedmont</td>\n",
              "      <td>Barolo</td>\n",
              "      <td>NaN</td>\n",
              "      <td>NaN</td>\n",
              "      <td>NaN</td>\n",
              "      <td>Ceretto 2003 Bricco Rocche Prapó  (Barolo)</td>\n",
              "      <td>Nebbiolo</td>\n",
              "      <td>Ceretto</td>\n",
              "    </tr>\n",
              "    <tr>\n",
              "      <th>130</th>\n",
              "      <td>Italy</td>\n",
              "      <td>At the first it was quite muted and subdued, b...</td>\n",
              "      <td>Bricco Rocche Brunate</td>\n",
              "      <td>91</td>\n",
              "      <td>70.0</td>\n",
              "      <td>Piedmont</td>\n",
              "      <td>Barolo</td>\n",
              "      <td>NaN</td>\n",
              "      <td>NaN</td>\n",
              "      <td>NaN</td>\n",
              "      <td>Ceretto 2003 Bricco Rocche Brunate  (Barolo)</td>\n",
              "      <td>Nebbiolo</td>\n",
              "      <td>Ceretto</td>\n",
              "    </tr>\n",
              "    <tr>\n",
              "      <th>...</th>\n",
              "      <td>...</td>\n",
              "      <td>...</td>\n",
              "      <td>...</td>\n",
              "      <td>...</td>\n",
              "      <td>...</td>\n",
              "      <td>...</td>\n",
              "      <td>...</td>\n",
              "      <td>...</td>\n",
              "      <td>...</td>\n",
              "      <td>...</td>\n",
              "      <td>...</td>\n",
              "      <td>...</td>\n",
              "      <td>...</td>\n",
              "    </tr>\n",
              "    <tr>\n",
              "      <th>129961</th>\n",
              "      <td>Italy</td>\n",
              "      <td>Intense aromas of wild cherry, baking spice, t...</td>\n",
              "      <td>NaN</td>\n",
              "      <td>90</td>\n",
              "      <td>30.0</td>\n",
              "      <td>Sicily &amp; Sardinia</td>\n",
              "      <td>Sicilia</td>\n",
              "      <td>NaN</td>\n",
              "      <td>Kerin O’Keefe</td>\n",
              "      <td>@kerinokeefe</td>\n",
              "      <td>COS 2013 Frappato (Sicilia)</td>\n",
              "      <td>Frappato</td>\n",
              "      <td>COS</td>\n",
              "    </tr>\n",
              "    <tr>\n",
              "      <th>129962</th>\n",
              "      <td>Italy</td>\n",
              "      <td>Blackberry, cassis, grilled herb and toasted a...</td>\n",
              "      <td>Sàgana Tenuta San Giacomo</td>\n",
              "      <td>90</td>\n",
              "      <td>40.0</td>\n",
              "      <td>Sicily &amp; Sardinia</td>\n",
              "      <td>Sicilia</td>\n",
              "      <td>NaN</td>\n",
              "      <td>Kerin O’Keefe</td>\n",
              "      <td>@kerinokeefe</td>\n",
              "      <td>Cusumano 2012 Sàgana Tenuta San Giacomo Nero d...</td>\n",
              "      <td>Nero d'Avola</td>\n",
              "      <td>Cusumano</td>\n",
              "    </tr>\n",
              "  </tbody>\n",
              "</table>\n",
              "<p>6648 rows × 13 columns</p>\n",
              "</div>"
            ],
            "text/plain": [
              "       country  ...    winery\n",
              "120      Italy  ...   Ceretto\n",
              "130      Italy  ...   Ceretto\n",
              "...        ...  ...       ...\n",
              "129961   Italy  ...       COS\n",
              "129962   Italy  ...  Cusumano\n",
              "\n",
              "[6648 rows x 13 columns]"
            ]
          },
          "metadata": {},
          "execution_count": 33
        }
      ]
    },
    {
      "cell_type": "markdown",
      "metadata": {
        "id": "eqGMkbnad3_N"
      },
      "source": [
        "Pandas comes with a few built-in conditional selectors, two of which we will highlight here.\n",
        "\n",
        "The first is isin. isin is lets you select data whose value \"is in\" a list of values. For example, here's how we can use it to select wines only from Italy or France:"
      ]
    },
    {
      "cell_type": "code",
      "metadata": {
        "colab": {
          "base_uri": "https://localhost:8080/",
          "height": 505
        },
        "id": "lj_EptEbd49w",
        "outputId": "75b2008b-1f40-4107-8f2c-4e2c94a938fb"
      },
      "source": [
        "wine_reviews.loc[wine_reviews.country.isin(['Italy', 'France'])]"
      ],
      "execution_count": 34,
      "outputs": [
        {
          "output_type": "execute_result",
          "data": {
            "text/html": [
              "<div>\n",
              "<style scoped>\n",
              "    .dataframe tbody tr th:only-of-type {\n",
              "        vertical-align: middle;\n",
              "    }\n",
              "\n",
              "    .dataframe tbody tr th {\n",
              "        vertical-align: top;\n",
              "    }\n",
              "\n",
              "    .dataframe thead th {\n",
              "        text-align: right;\n",
              "    }\n",
              "</style>\n",
              "<table border=\"1\" class=\"dataframe\">\n",
              "  <thead>\n",
              "    <tr style=\"text-align: right;\">\n",
              "      <th></th>\n",
              "      <th>country</th>\n",
              "      <th>description</th>\n",
              "      <th>designation</th>\n",
              "      <th>points</th>\n",
              "      <th>price</th>\n",
              "      <th>province</th>\n",
              "      <th>region_1</th>\n",
              "      <th>region_2</th>\n",
              "      <th>taster_name</th>\n",
              "      <th>taster_twitter_handle</th>\n",
              "      <th>title</th>\n",
              "      <th>variety</th>\n",
              "      <th>winery</th>\n",
              "    </tr>\n",
              "  </thead>\n",
              "  <tbody>\n",
              "    <tr>\n",
              "      <th>0</th>\n",
              "      <td>Italy</td>\n",
              "      <td>Aromas include tropical fruit, broom, brimston...</td>\n",
              "      <td>Vulkà Bianco</td>\n",
              "      <td>87</td>\n",
              "      <td>NaN</td>\n",
              "      <td>Sicily &amp; Sardinia</td>\n",
              "      <td>Etna</td>\n",
              "      <td>NaN</td>\n",
              "      <td>Kerin O’Keefe</td>\n",
              "      <td>@kerinokeefe</td>\n",
              "      <td>Nicosia 2013 Vulkà Bianco  (Etna)</td>\n",
              "      <td>White Blend</td>\n",
              "      <td>Nicosia</td>\n",
              "    </tr>\n",
              "    <tr>\n",
              "      <th>6</th>\n",
              "      <td>Italy</td>\n",
              "      <td>Here's a bright, informal red that opens with ...</td>\n",
              "      <td>Belsito</td>\n",
              "      <td>87</td>\n",
              "      <td>16.0</td>\n",
              "      <td>Sicily &amp; Sardinia</td>\n",
              "      <td>Vittoria</td>\n",
              "      <td>NaN</td>\n",
              "      <td>Kerin O’Keefe</td>\n",
              "      <td>@kerinokeefe</td>\n",
              "      <td>Terre di Giurfo 2013 Belsito Frappato (Vittoria)</td>\n",
              "      <td>Frappato</td>\n",
              "      <td>Terre di Giurfo</td>\n",
              "    </tr>\n",
              "    <tr>\n",
              "      <th>...</th>\n",
              "      <td>...</td>\n",
              "      <td>...</td>\n",
              "      <td>...</td>\n",
              "      <td>...</td>\n",
              "      <td>...</td>\n",
              "      <td>...</td>\n",
              "      <td>...</td>\n",
              "      <td>...</td>\n",
              "      <td>...</td>\n",
              "      <td>...</td>\n",
              "      <td>...</td>\n",
              "      <td>...</td>\n",
              "      <td>...</td>\n",
              "    </tr>\n",
              "    <tr>\n",
              "      <th>129969</th>\n",
              "      <td>France</td>\n",
              "      <td>A dry style of Pinot Gris, this is crisp with ...</td>\n",
              "      <td>NaN</td>\n",
              "      <td>90</td>\n",
              "      <td>32.0</td>\n",
              "      <td>Alsace</td>\n",
              "      <td>Alsace</td>\n",
              "      <td>NaN</td>\n",
              "      <td>Roger Voss</td>\n",
              "      <td>@vossroger</td>\n",
              "      <td>Domaine Marcel Deiss 2012 Pinot Gris (Alsace)</td>\n",
              "      <td>Pinot Gris</td>\n",
              "      <td>Domaine Marcel Deiss</td>\n",
              "    </tr>\n",
              "    <tr>\n",
              "      <th>129970</th>\n",
              "      <td>France</td>\n",
              "      <td>Big, rich and off-dry, this is powered by inte...</td>\n",
              "      <td>Lieu-dit Harth Cuvée Caroline</td>\n",
              "      <td>90</td>\n",
              "      <td>21.0</td>\n",
              "      <td>Alsace</td>\n",
              "      <td>Alsace</td>\n",
              "      <td>NaN</td>\n",
              "      <td>Roger Voss</td>\n",
              "      <td>@vossroger</td>\n",
              "      <td>Domaine Schoffit 2012 Lieu-dit Harth Cuvée Car...</td>\n",
              "      <td>Gewürztraminer</td>\n",
              "      <td>Domaine Schoffit</td>\n",
              "    </tr>\n",
              "  </tbody>\n",
              "</table>\n",
              "<p>41633 rows × 13 columns</p>\n",
              "</div>"
            ],
            "text/plain": [
              "       country  ...                winery\n",
              "0        Italy  ...               Nicosia\n",
              "6        Italy  ...       Terre di Giurfo\n",
              "...        ...  ...                   ...\n",
              "129969  France  ...  Domaine Marcel Deiss\n",
              "129970  France  ...      Domaine Schoffit\n",
              "\n",
              "[41633 rows x 13 columns]"
            ]
          },
          "metadata": {},
          "execution_count": 34
        }
      ]
    },
    {
      "cell_type": "markdown",
      "metadata": {
        "id": "849BqfiDeKBB"
      },
      "source": [
        "The second is isnull (and its companion notnull). These methods let you highlight values which are (or are not) empty (NaN). For example, to filter out wines lacking a price tag in the dataset, here's what we would do:"
      ]
    },
    {
      "cell_type": "code",
      "metadata": {
        "colab": {
          "base_uri": "https://localhost:8080/",
          "height": 522
        },
        "id": "Yx1X8NR9eLXN",
        "outputId": "08d36c55-dad8-42a3-e7ea-8df68e936715"
      },
      "source": [
        "wine_reviews.loc[wine_reviews.price.notnull()]"
      ],
      "execution_count": 35,
      "outputs": [
        {
          "output_type": "execute_result",
          "data": {
            "text/html": [
              "<div>\n",
              "<style scoped>\n",
              "    .dataframe tbody tr th:only-of-type {\n",
              "        vertical-align: middle;\n",
              "    }\n",
              "\n",
              "    .dataframe tbody tr th {\n",
              "        vertical-align: top;\n",
              "    }\n",
              "\n",
              "    .dataframe thead th {\n",
              "        text-align: right;\n",
              "    }\n",
              "</style>\n",
              "<table border=\"1\" class=\"dataframe\">\n",
              "  <thead>\n",
              "    <tr style=\"text-align: right;\">\n",
              "      <th></th>\n",
              "      <th>country</th>\n",
              "      <th>description</th>\n",
              "      <th>designation</th>\n",
              "      <th>points</th>\n",
              "      <th>price</th>\n",
              "      <th>province</th>\n",
              "      <th>region_1</th>\n",
              "      <th>region_2</th>\n",
              "      <th>taster_name</th>\n",
              "      <th>taster_twitter_handle</th>\n",
              "      <th>title</th>\n",
              "      <th>variety</th>\n",
              "      <th>winery</th>\n",
              "    </tr>\n",
              "  </thead>\n",
              "  <tbody>\n",
              "    <tr>\n",
              "      <th>1</th>\n",
              "      <td>Portugal</td>\n",
              "      <td>This is ripe and fruity, a wine that is smooth...</td>\n",
              "      <td>Avidagos</td>\n",
              "      <td>87</td>\n",
              "      <td>15.0</td>\n",
              "      <td>Douro</td>\n",
              "      <td>NaN</td>\n",
              "      <td>NaN</td>\n",
              "      <td>Roger Voss</td>\n",
              "      <td>@vossroger</td>\n",
              "      <td>Quinta dos Avidagos 2011 Avidagos Red (Douro)</td>\n",
              "      <td>Portuguese Red</td>\n",
              "      <td>Quinta dos Avidagos</td>\n",
              "    </tr>\n",
              "    <tr>\n",
              "      <th>2</th>\n",
              "      <td>US</td>\n",
              "      <td>Tart and snappy, the flavors of lime flesh and...</td>\n",
              "      <td>NaN</td>\n",
              "      <td>87</td>\n",
              "      <td>14.0</td>\n",
              "      <td>Oregon</td>\n",
              "      <td>Willamette Valley</td>\n",
              "      <td>Willamette Valley</td>\n",
              "      <td>Paul Gregutt</td>\n",
              "      <td>@paulgwine</td>\n",
              "      <td>Rainstorm 2013 Pinot Gris (Willamette Valley)</td>\n",
              "      <td>Pinot Gris</td>\n",
              "      <td>Rainstorm</td>\n",
              "    </tr>\n",
              "    <tr>\n",
              "      <th>...</th>\n",
              "      <td>...</td>\n",
              "      <td>...</td>\n",
              "      <td>...</td>\n",
              "      <td>...</td>\n",
              "      <td>...</td>\n",
              "      <td>...</td>\n",
              "      <td>...</td>\n",
              "      <td>...</td>\n",
              "      <td>...</td>\n",
              "      <td>...</td>\n",
              "      <td>...</td>\n",
              "      <td>...</td>\n",
              "      <td>...</td>\n",
              "    </tr>\n",
              "    <tr>\n",
              "      <th>129969</th>\n",
              "      <td>France</td>\n",
              "      <td>A dry style of Pinot Gris, this is crisp with ...</td>\n",
              "      <td>NaN</td>\n",
              "      <td>90</td>\n",
              "      <td>32.0</td>\n",
              "      <td>Alsace</td>\n",
              "      <td>Alsace</td>\n",
              "      <td>NaN</td>\n",
              "      <td>Roger Voss</td>\n",
              "      <td>@vossroger</td>\n",
              "      <td>Domaine Marcel Deiss 2012 Pinot Gris (Alsace)</td>\n",
              "      <td>Pinot Gris</td>\n",
              "      <td>Domaine Marcel Deiss</td>\n",
              "    </tr>\n",
              "    <tr>\n",
              "      <th>129970</th>\n",
              "      <td>France</td>\n",
              "      <td>Big, rich and off-dry, this is powered by inte...</td>\n",
              "      <td>Lieu-dit Harth Cuvée Caroline</td>\n",
              "      <td>90</td>\n",
              "      <td>21.0</td>\n",
              "      <td>Alsace</td>\n",
              "      <td>Alsace</td>\n",
              "      <td>NaN</td>\n",
              "      <td>Roger Voss</td>\n",
              "      <td>@vossroger</td>\n",
              "      <td>Domaine Schoffit 2012 Lieu-dit Harth Cuvée Car...</td>\n",
              "      <td>Gewürztraminer</td>\n",
              "      <td>Domaine Schoffit</td>\n",
              "    </tr>\n",
              "  </tbody>\n",
              "</table>\n",
              "<p>120975 rows × 13 columns</p>\n",
              "</div>"
            ],
            "text/plain": [
              "         country  ...                winery\n",
              "1       Portugal  ...   Quinta dos Avidagos\n",
              "2             US  ...             Rainstorm\n",
              "...          ...  ...                   ...\n",
              "129969    France  ...  Domaine Marcel Deiss\n",
              "129970    France  ...      Domaine Schoffit\n",
              "\n",
              "[120975 rows x 13 columns]"
            ]
          },
          "metadata": {},
          "execution_count": 35
        }
      ]
    },
    {
      "cell_type": "code",
      "metadata": {
        "colab": {
          "base_uri": "https://localhost:8080/",
          "height": 522
        },
        "id": "5qsaUtRcehfr",
        "outputId": "703bb1e6-e6ad-4756-8000-60265e263ab9"
      },
      "source": [
        "wine_reviews.loc[wine_reviews.price.isnull()]"
      ],
      "execution_count": 36,
      "outputs": [
        {
          "output_type": "execute_result",
          "data": {
            "text/html": [
              "<div>\n",
              "<style scoped>\n",
              "    .dataframe tbody tr th:only-of-type {\n",
              "        vertical-align: middle;\n",
              "    }\n",
              "\n",
              "    .dataframe tbody tr th {\n",
              "        vertical-align: top;\n",
              "    }\n",
              "\n",
              "    .dataframe thead th {\n",
              "        text-align: right;\n",
              "    }\n",
              "</style>\n",
              "<table border=\"1\" class=\"dataframe\">\n",
              "  <thead>\n",
              "    <tr style=\"text-align: right;\">\n",
              "      <th></th>\n",
              "      <th>country</th>\n",
              "      <th>description</th>\n",
              "      <th>designation</th>\n",
              "      <th>points</th>\n",
              "      <th>price</th>\n",
              "      <th>province</th>\n",
              "      <th>region_1</th>\n",
              "      <th>region_2</th>\n",
              "      <th>taster_name</th>\n",
              "      <th>taster_twitter_handle</th>\n",
              "      <th>title</th>\n",
              "      <th>variety</th>\n",
              "      <th>winery</th>\n",
              "    </tr>\n",
              "  </thead>\n",
              "  <tbody>\n",
              "    <tr>\n",
              "      <th>0</th>\n",
              "      <td>Italy</td>\n",
              "      <td>Aromas include tropical fruit, broom, brimston...</td>\n",
              "      <td>Vulkà Bianco</td>\n",
              "      <td>87</td>\n",
              "      <td>NaN</td>\n",
              "      <td>Sicily &amp; Sardinia</td>\n",
              "      <td>Etna</td>\n",
              "      <td>NaN</td>\n",
              "      <td>Kerin O’Keefe</td>\n",
              "      <td>@kerinokeefe</td>\n",
              "      <td>Nicosia 2013 Vulkà Bianco  (Etna)</td>\n",
              "      <td>White Blend</td>\n",
              "      <td>Nicosia</td>\n",
              "    </tr>\n",
              "    <tr>\n",
              "      <th>13</th>\n",
              "      <td>Italy</td>\n",
              "      <td>This is dominated by oak and oak-driven aromas...</td>\n",
              "      <td>Rosso</td>\n",
              "      <td>87</td>\n",
              "      <td>NaN</td>\n",
              "      <td>Sicily &amp; Sardinia</td>\n",
              "      <td>Etna</td>\n",
              "      <td>NaN</td>\n",
              "      <td>Kerin O’Keefe</td>\n",
              "      <td>@kerinokeefe</td>\n",
              "      <td>Masseria Setteporte 2012 Rosso  (Etna)</td>\n",
              "      <td>Nerello Mascalese</td>\n",
              "      <td>Masseria Setteporte</td>\n",
              "    </tr>\n",
              "    <tr>\n",
              "      <th>...</th>\n",
              "      <td>...</td>\n",
              "      <td>...</td>\n",
              "      <td>...</td>\n",
              "      <td>...</td>\n",
              "      <td>...</td>\n",
              "      <td>...</td>\n",
              "      <td>...</td>\n",
              "      <td>...</td>\n",
              "      <td>...</td>\n",
              "      <td>...</td>\n",
              "      <td>...</td>\n",
              "      <td>...</td>\n",
              "      <td>...</td>\n",
              "    </tr>\n",
              "    <tr>\n",
              "      <th>129893</th>\n",
              "      <td>Italy</td>\n",
              "      <td>Aromas of passion fruit, hay and a vegetal not...</td>\n",
              "      <td>Corte Menini</td>\n",
              "      <td>91</td>\n",
              "      <td>NaN</td>\n",
              "      <td>Veneto</td>\n",
              "      <td>Soave Classico</td>\n",
              "      <td>NaN</td>\n",
              "      <td>Kerin O’Keefe</td>\n",
              "      <td>@kerinokeefe</td>\n",
              "      <td>Le Mandolare 2015 Corte Menini  (Soave Classico)</td>\n",
              "      <td>Garganega</td>\n",
              "      <td>Le Mandolare</td>\n",
              "    </tr>\n",
              "    <tr>\n",
              "      <th>129964</th>\n",
              "      <td>France</td>\n",
              "      <td>Initially quite muted, this wine slowly develo...</td>\n",
              "      <td>Domaine Saint-Rémy Herrenweg</td>\n",
              "      <td>90</td>\n",
              "      <td>NaN</td>\n",
              "      <td>Alsace</td>\n",
              "      <td>Alsace</td>\n",
              "      <td>NaN</td>\n",
              "      <td>Roger Voss</td>\n",
              "      <td>@vossroger</td>\n",
              "      <td>Domaine Ehrhart 2013 Domaine Saint-Rémy Herren...</td>\n",
              "      <td>Gewürztraminer</td>\n",
              "      <td>Domaine Ehrhart</td>\n",
              "    </tr>\n",
              "  </tbody>\n",
              "</table>\n",
              "<p>8996 rows × 13 columns</p>\n",
              "</div>"
            ],
            "text/plain": [
              "       country  ...               winery\n",
              "0        Italy  ...              Nicosia\n",
              "13       Italy  ...  Masseria Setteporte\n",
              "...        ...  ...                  ...\n",
              "129893   Italy  ...         Le Mandolare\n",
              "129964  France  ...      Domaine Ehrhart\n",
              "\n",
              "[8996 rows x 13 columns]"
            ]
          },
          "metadata": {},
          "execution_count": 36
        }
      ]
    },
    {
      "cell_type": "markdown",
      "metadata": {
        "id": "Dk1DGw5J_kFl"
      },
      "source": [
        "Creating a Column on the dataframe"
      ]
    },
    {
      "cell_type": "code",
      "metadata": {
        "colab": {
          "base_uri": "https://localhost:8080/"
        },
        "id": "e60sUINq_oA8",
        "outputId": "a361c072-d8cd-43d5-e3cb-a682f4ed55ec"
      },
      "source": [
        "wine_reviews['critic'] = 'everyone'\n",
        "wine_reviews['critic']"
      ],
      "execution_count": 37,
      "outputs": [
        {
          "output_type": "execute_result",
          "data": {
            "text/plain": [
              "0         everyone\n",
              "1         everyone\n",
              "            ...   \n",
              "129969    everyone\n",
              "129970    everyone\n",
              "Name: critic, Length: 129971, dtype: object"
            ]
          },
          "metadata": {},
          "execution_count": 37
        }
      ]
    },
    {
      "cell_type": "code",
      "metadata": {
        "colab": {
          "base_uri": "https://localhost:8080/"
        },
        "id": "52cKuPrWBX5m",
        "outputId": "adf641b4-6436-4334-db80-ded2ab4f1027"
      },
      "source": [
        "wine_reviews.columns"
      ],
      "execution_count": 39,
      "outputs": [
        {
          "output_type": "execute_result",
          "data": {
            "text/plain": [
              "Index(['country', 'description', 'designation', 'points', 'price', 'province',\n",
              "       'region_1', 'region_2', 'taster_name', 'taster_twitter_handle', 'title',\n",
              "       'variety', 'winery', 'critic'],\n",
              "      dtype='object')"
            ]
          },
          "metadata": {},
          "execution_count": 39
        }
      ]
    },
    {
      "cell_type": "code",
      "metadata": {
        "id": "nBC2qaTmBa5Y"
      },
      "source": [
        "wine_reviews['index_backwards'] = range(len(wine_reviews), 0, -1)"
      ],
      "execution_count": 41,
      "outputs": []
    },
    {
      "cell_type": "code",
      "metadata": {
        "colab": {
          "base_uri": "https://localhost:8080/"
        },
        "id": "DGIHGALpCSHp",
        "outputId": "d857ed61-2d29-4360-b172-06c621d61e57"
      },
      "source": [
        "wine_reviews.columns"
      ],
      "execution_count": 42,
      "outputs": [
        {
          "output_type": "execute_result",
          "data": {
            "text/plain": [
              "Index(['country', 'description', 'designation', 'points', 'price', 'province',\n",
              "       'region_1', 'region_2', 'taster_name', 'taster_twitter_handle', 'title',\n",
              "       'variety', 'winery', 'critic', 'index_backwards'],\n",
              "      dtype='object')"
            ]
          },
          "metadata": {},
          "execution_count": 42
        }
      ]
    },
    {
      "cell_type": "code",
      "metadata": {
        "colab": {
          "base_uri": "https://localhost:8080/"
        },
        "id": "8vEaSpCzCUnw",
        "outputId": "a84430c8-adbb-4d79-ef5b-c663f06eb35b"
      },
      "source": [
        "wine_reviews['index_backwards'] "
      ],
      "execution_count": 43,
      "outputs": [
        {
          "output_type": "execute_result",
          "data": {
            "text/plain": [
              "0         129971\n",
              "1         129970\n",
              "           ...  \n",
              "129969         2\n",
              "129970         1\n",
              "Name: index_backwards, Length: 129971, dtype: int64"
            ]
          },
          "metadata": {},
          "execution_count": 43
        }
      ]
    },
    {
      "cell_type": "markdown",
      "metadata": {
        "id": "n6vCZ3ZJFG2u"
      },
      "source": [
        "# Cap 3 kaggle"
      ]
    },
    {
      "cell_type": "code",
      "metadata": {
        "colab": {
          "base_uri": "https://localhost:8080/"
        },
        "id": "rO3VFlljFJhD",
        "outputId": "125d0f6c-d760-4ecf-95cc-160753d13a48"
      },
      "source": [
        "wine_reviews['points'].describe()"
      ],
      "execution_count": 45,
      "outputs": [
        {
          "output_type": "execute_result",
          "data": {
            "text/plain": [
              "count    129971.000000\n",
              "mean         88.447138\n",
              "             ...      \n",
              "75%          91.000000\n",
              "max         100.000000\n",
              "Name: points, Length: 8, dtype: float64"
            ]
          },
          "metadata": {},
          "execution_count": 45
        }
      ]
    },
    {
      "cell_type": "code",
      "metadata": {
        "colab": {
          "base_uri": "https://localhost:8080/"
        },
        "id": "AnvY_HobGLvR",
        "outputId": "7ae58ac2-1315-484f-cfbd-29f73adf9003"
      },
      "source": [
        "wine_reviews['taster_name'].describe()"
      ],
      "execution_count": 46,
      "outputs": [
        {
          "output_type": "execute_result",
          "data": {
            "text/plain": [
              "count         103727\n",
              "unique            19\n",
              "top       Roger Voss\n",
              "freq           25514\n",
              "Name: taster_name, dtype: object"
            ]
          },
          "metadata": {},
          "execution_count": 46
        }
      ]
    },
    {
      "cell_type": "code",
      "metadata": {
        "colab": {
          "base_uri": "https://localhost:8080/"
        },
        "id": "jue0BIluGbA_",
        "outputId": "e6eaedd2-8408-4a31-efe0-5db6e33e1005"
      },
      "source": [
        "wine_reviews['points'].mean()"
      ],
      "execution_count": 47,
      "outputs": [
        {
          "output_type": "execute_result",
          "data": {
            "text/plain": [
              "88.44713820775404"
            ]
          },
          "metadata": {},
          "execution_count": 47
        }
      ]
    },
    {
      "cell_type": "markdown",
      "metadata": {
        "id": "lhlYkvKDGqgy"
      },
      "source": [
        "To see a list of unique values we can use the unique() function:"
      ]
    },
    {
      "cell_type": "code",
      "metadata": {
        "colab": {
          "base_uri": "https://localhost:8080/"
        },
        "id": "_gy7Uog2GhN7",
        "outputId": "11344606-128d-45db-ab78-32b230b9360b"
      },
      "source": [
        "wine_reviews['taster_name'].unique()"
      ],
      "execution_count": 48,
      "outputs": [
        {
          "output_type": "execute_result",
          "data": {
            "text/plain": [
              "array(['Kerin O’Keefe', 'Roger Voss', 'Paul Gregutt',\n",
              "       'Alexander Peartree', 'Michael Schachner', 'Anna Lee C. Iijima',\n",
              "       'Virginie Boone', 'Matt Kettmann', nan, 'Sean P. Sullivan',\n",
              "       'Jim Gordon', 'Joe Czerwinski', 'Anne Krebiehl\\xa0MW',\n",
              "       'Lauren Buzzeo', 'Mike DeSimone', 'Jeff Jenssen',\n",
              "       'Susan Kostrzewa', 'Carrie Dykes', 'Fiona Adams',\n",
              "       'Christina Pickard'], dtype=object)"
            ]
          },
          "metadata": {},
          "execution_count": 48
        }
      ]
    },
    {
      "cell_type": "markdown",
      "metadata": {
        "id": "N4cYV39kGrzz"
      },
      "source": [
        "To see a list of unique values and how often they occur in the dataset, we can use the value_counts() method:"
      ]
    },
    {
      "cell_type": "code",
      "metadata": {
        "colab": {
          "base_uri": "https://localhost:8080/"
        },
        "id": "SmPLaOq9GvQL",
        "outputId": "2bdc824a-9417-4bf4-c3ac-4c007bb3471e"
      },
      "source": [
        "wine_reviews['taster_name'].value_counts()"
      ],
      "execution_count": 52,
      "outputs": [
        {
          "output_type": "execute_result",
          "data": {
            "text/plain": [
              "Roger Voss           25514\n",
              "Michael Schachner    15134\n",
              "                     ...  \n",
              "Fiona Adams             27\n",
              "Christina Pickard        6\n",
              "Name: taster_name, Length: 19, dtype: int64"
            ]
          },
          "metadata": {},
          "execution_count": 52
        }
      ]
    },
    {
      "cell_type": "markdown",
      "metadata": {
        "id": "N4vquVRKHW3n"
      },
      "source": [
        "# Map\n",
        "A map is a term, borrowed from mathematics, for a function that takes one set of values and \"maps\" them to another set of values. In data science we often have a need for creating new representations from existing data, or for transforming data from the format it is in now to the format that we want it to be in later. Maps are what handle this work, making them extremely important for getting your work done!\n",
        "\n",
        "There are two mapping methods that you will use often.\n",
        "\n",
        "map() is the first, and slightly simpler one. For example, suppose that we wanted to remean the scores the wines received to 0. We can do this as follows:"
      ]
    },
    {
      "cell_type": "code",
      "metadata": {
        "colab": {
          "base_uri": "https://localhost:8080/"
        },
        "id": "00ErPC-zHMID",
        "outputId": "d5e7eef3-1198-4988-e827-4ce53c1f46ab"
      },
      "source": [
        "wine_review_points_mean = wine_reviews.points.mean()\n",
        "wine_reviews.points.map(lambda p: p - wine_review_points_mean)"
      ],
      "execution_count": 53,
      "outputs": [
        {
          "output_type": "execute_result",
          "data": {
            "text/plain": [
              "0        -1.447138\n",
              "1        -1.447138\n",
              "            ...   \n",
              "129969    1.552862\n",
              "129970    1.552862\n",
              "Name: points, Length: 129971, dtype: float64"
            ]
          },
          "metadata": {},
          "execution_count": 53
        }
      ]
    },
    {
      "cell_type": "markdown",
      "metadata": {
        "id": "_nszUH2hHkQ0"
      },
      "source": [
        "The function you pass to map() should expect a single value from the Series (a point value, in the above example), and return a transformed version of that value. map() returns a new Series where all the values have been transformed by your function.\n",
        "\n",
        "apply() is the equivalent method if we want to transform a whole DataFrame by calling a custom method on each row."
      ]
    },
    {
      "cell_type": "code",
      "metadata": {
        "colab": {
          "base_uri": "https://localhost:8080/",
          "height": 627
        },
        "id": "YMlbJfyVHiyD",
        "outputId": "6914eb42-a000-4d45-b443-32120c31d503"
      },
      "source": [
        "def remean_points(row):\n",
        "    row.points = row.points - wine_review_points_mean\n",
        "    return row\n",
        "\n",
        "wine_reviews.apply(remean_points, axis='columns')"
      ],
      "execution_count": 56,
      "outputs": [
        {
          "output_type": "execute_result",
          "data": {
            "text/html": [
              "<div>\n",
              "<style scoped>\n",
              "    .dataframe tbody tr th:only-of-type {\n",
              "        vertical-align: middle;\n",
              "    }\n",
              "\n",
              "    .dataframe tbody tr th {\n",
              "        vertical-align: top;\n",
              "    }\n",
              "\n",
              "    .dataframe thead th {\n",
              "        text-align: right;\n",
              "    }\n",
              "</style>\n",
              "<table border=\"1\" class=\"dataframe\">\n",
              "  <thead>\n",
              "    <tr style=\"text-align: right;\">\n",
              "      <th></th>\n",
              "      <th>country</th>\n",
              "      <th>description</th>\n",
              "      <th>designation</th>\n",
              "      <th>points</th>\n",
              "      <th>price</th>\n",
              "      <th>province</th>\n",
              "      <th>region_1</th>\n",
              "      <th>region_2</th>\n",
              "      <th>taster_name</th>\n",
              "      <th>taster_twitter_handle</th>\n",
              "      <th>title</th>\n",
              "      <th>variety</th>\n",
              "      <th>winery</th>\n",
              "      <th>critic</th>\n",
              "      <th>index_backwards</th>\n",
              "    </tr>\n",
              "  </thead>\n",
              "  <tbody>\n",
              "    <tr>\n",
              "      <th>0</th>\n",
              "      <td>Italy</td>\n",
              "      <td>Aromas include tropical fruit, broom, brimston...</td>\n",
              "      <td>Vulkà Bianco</td>\n",
              "      <td>-1.447138</td>\n",
              "      <td>NaN</td>\n",
              "      <td>Sicily &amp; Sardinia</td>\n",
              "      <td>Etna</td>\n",
              "      <td>NaN</td>\n",
              "      <td>Kerin O’Keefe</td>\n",
              "      <td>@kerinokeefe</td>\n",
              "      <td>Nicosia 2013 Vulkà Bianco  (Etna)</td>\n",
              "      <td>White Blend</td>\n",
              "      <td>Nicosia</td>\n",
              "      <td>everyone</td>\n",
              "      <td>129971</td>\n",
              "    </tr>\n",
              "    <tr>\n",
              "      <th>1</th>\n",
              "      <td>Portugal</td>\n",
              "      <td>This is ripe and fruity, a wine that is smooth...</td>\n",
              "      <td>Avidagos</td>\n",
              "      <td>-1.447138</td>\n",
              "      <td>15.0</td>\n",
              "      <td>Douro</td>\n",
              "      <td>NaN</td>\n",
              "      <td>NaN</td>\n",
              "      <td>Roger Voss</td>\n",
              "      <td>@vossroger</td>\n",
              "      <td>Quinta dos Avidagos 2011 Avidagos Red (Douro)</td>\n",
              "      <td>Portuguese Red</td>\n",
              "      <td>Quinta dos Avidagos</td>\n",
              "      <td>everyone</td>\n",
              "      <td>129970</td>\n",
              "    </tr>\n",
              "    <tr>\n",
              "      <th>...</th>\n",
              "      <td>...</td>\n",
              "      <td>...</td>\n",
              "      <td>...</td>\n",
              "      <td>...</td>\n",
              "      <td>...</td>\n",
              "      <td>...</td>\n",
              "      <td>...</td>\n",
              "      <td>...</td>\n",
              "      <td>...</td>\n",
              "      <td>...</td>\n",
              "      <td>...</td>\n",
              "      <td>...</td>\n",
              "      <td>...</td>\n",
              "      <td>...</td>\n",
              "      <td>...</td>\n",
              "    </tr>\n",
              "    <tr>\n",
              "      <th>129969</th>\n",
              "      <td>France</td>\n",
              "      <td>A dry style of Pinot Gris, this is crisp with ...</td>\n",
              "      <td>NaN</td>\n",
              "      <td>1.552862</td>\n",
              "      <td>32.0</td>\n",
              "      <td>Alsace</td>\n",
              "      <td>Alsace</td>\n",
              "      <td>NaN</td>\n",
              "      <td>Roger Voss</td>\n",
              "      <td>@vossroger</td>\n",
              "      <td>Domaine Marcel Deiss 2012 Pinot Gris (Alsace)</td>\n",
              "      <td>Pinot Gris</td>\n",
              "      <td>Domaine Marcel Deiss</td>\n",
              "      <td>everyone</td>\n",
              "      <td>2</td>\n",
              "    </tr>\n",
              "    <tr>\n",
              "      <th>129970</th>\n",
              "      <td>France</td>\n",
              "      <td>Big, rich and off-dry, this is powered by inte...</td>\n",
              "      <td>Lieu-dit Harth Cuvée Caroline</td>\n",
              "      <td>1.552862</td>\n",
              "      <td>21.0</td>\n",
              "      <td>Alsace</td>\n",
              "      <td>Alsace</td>\n",
              "      <td>NaN</td>\n",
              "      <td>Roger Voss</td>\n",
              "      <td>@vossroger</td>\n",
              "      <td>Domaine Schoffit 2012 Lieu-dit Harth Cuvée Car...</td>\n",
              "      <td>Gewürztraminer</td>\n",
              "      <td>Domaine Schoffit</td>\n",
              "      <td>everyone</td>\n",
              "      <td>1</td>\n",
              "    </tr>\n",
              "  </tbody>\n",
              "</table>\n",
              "<p>129971 rows × 15 columns</p>\n",
              "</div>"
            ],
            "text/plain": [
              "         country  ... index_backwards\n",
              "0          Italy  ...          129971\n",
              "1       Portugal  ...          129970\n",
              "...          ...  ...             ...\n",
              "129969    France  ...               2\n",
              "129970    France  ...               1\n",
              "\n",
              "[129971 rows x 15 columns]"
            ]
          },
          "metadata": {},
          "execution_count": 56
        }
      ]
    },
    {
      "cell_type": "code",
      "metadata": {
        "colab": {
          "base_uri": "https://localhost:8080/",
          "height": 632
        },
        "id": "LtF0-g4xHwhs",
        "outputId": "ab513728-fdc8-46c3-d37a-11b42508b68f"
      },
      "source": [
        "wine_reviews.head()"
      ],
      "execution_count": 57,
      "outputs": [
        {
          "output_type": "execute_result",
          "data": {
            "text/html": [
              "<div>\n",
              "<style scoped>\n",
              "    .dataframe tbody tr th:only-of-type {\n",
              "        vertical-align: middle;\n",
              "    }\n",
              "\n",
              "    .dataframe tbody tr th {\n",
              "        vertical-align: top;\n",
              "    }\n",
              "\n",
              "    .dataframe thead th {\n",
              "        text-align: right;\n",
              "    }\n",
              "</style>\n",
              "<table border=\"1\" class=\"dataframe\">\n",
              "  <thead>\n",
              "    <tr style=\"text-align: right;\">\n",
              "      <th></th>\n",
              "      <th>country</th>\n",
              "      <th>description</th>\n",
              "      <th>designation</th>\n",
              "      <th>points</th>\n",
              "      <th>price</th>\n",
              "      <th>province</th>\n",
              "      <th>region_1</th>\n",
              "      <th>region_2</th>\n",
              "      <th>taster_name</th>\n",
              "      <th>taster_twitter_handle</th>\n",
              "      <th>title</th>\n",
              "      <th>variety</th>\n",
              "      <th>winery</th>\n",
              "      <th>critic</th>\n",
              "      <th>index_backwards</th>\n",
              "    </tr>\n",
              "  </thead>\n",
              "  <tbody>\n",
              "    <tr>\n",
              "      <th>0</th>\n",
              "      <td>Italy</td>\n",
              "      <td>Aromas include tropical fruit, broom, brimston...</td>\n",
              "      <td>Vulkà Bianco</td>\n",
              "      <td>87</td>\n",
              "      <td>NaN</td>\n",
              "      <td>Sicily &amp; Sardinia</td>\n",
              "      <td>Etna</td>\n",
              "      <td>NaN</td>\n",
              "      <td>Kerin O’Keefe</td>\n",
              "      <td>@kerinokeefe</td>\n",
              "      <td>Nicosia 2013 Vulkà Bianco  (Etna)</td>\n",
              "      <td>White Blend</td>\n",
              "      <td>Nicosia</td>\n",
              "      <td>everyone</td>\n",
              "      <td>129971</td>\n",
              "    </tr>\n",
              "    <tr>\n",
              "      <th>1</th>\n",
              "      <td>Portugal</td>\n",
              "      <td>This is ripe and fruity, a wine that is smooth...</td>\n",
              "      <td>Avidagos</td>\n",
              "      <td>87</td>\n",
              "      <td>15.0</td>\n",
              "      <td>Douro</td>\n",
              "      <td>NaN</td>\n",
              "      <td>NaN</td>\n",
              "      <td>Roger Voss</td>\n",
              "      <td>@vossroger</td>\n",
              "      <td>Quinta dos Avidagos 2011 Avidagos Red (Douro)</td>\n",
              "      <td>Portuguese Red</td>\n",
              "      <td>Quinta dos Avidagos</td>\n",
              "      <td>everyone</td>\n",
              "      <td>129970</td>\n",
              "    </tr>\n",
              "    <tr>\n",
              "      <th>2</th>\n",
              "      <td>US</td>\n",
              "      <td>Tart and snappy, the flavors of lime flesh and...</td>\n",
              "      <td>NaN</td>\n",
              "      <td>87</td>\n",
              "      <td>14.0</td>\n",
              "      <td>Oregon</td>\n",
              "      <td>Willamette Valley</td>\n",
              "      <td>Willamette Valley</td>\n",
              "      <td>Paul Gregutt</td>\n",
              "      <td>@paulgwine</td>\n",
              "      <td>Rainstorm 2013 Pinot Gris (Willamette Valley)</td>\n",
              "      <td>Pinot Gris</td>\n",
              "      <td>Rainstorm</td>\n",
              "      <td>everyone</td>\n",
              "      <td>129969</td>\n",
              "    </tr>\n",
              "    <tr>\n",
              "      <th>3</th>\n",
              "      <td>US</td>\n",
              "      <td>Pineapple rind, lemon pith and orange blossom ...</td>\n",
              "      <td>Reserve Late Harvest</td>\n",
              "      <td>87</td>\n",
              "      <td>13.0</td>\n",
              "      <td>Michigan</td>\n",
              "      <td>Lake Michigan Shore</td>\n",
              "      <td>NaN</td>\n",
              "      <td>Alexander Peartree</td>\n",
              "      <td>NaN</td>\n",
              "      <td>St. Julian 2013 Reserve Late Harvest Riesling ...</td>\n",
              "      <td>Riesling</td>\n",
              "      <td>St. Julian</td>\n",
              "      <td>everyone</td>\n",
              "      <td>129968</td>\n",
              "    </tr>\n",
              "    <tr>\n",
              "      <th>4</th>\n",
              "      <td>US</td>\n",
              "      <td>Much like the regular bottling from 2012, this...</td>\n",
              "      <td>Vintner's Reserve Wild Child Block</td>\n",
              "      <td>87</td>\n",
              "      <td>65.0</td>\n",
              "      <td>Oregon</td>\n",
              "      <td>Willamette Valley</td>\n",
              "      <td>Willamette Valley</td>\n",
              "      <td>Paul Gregutt</td>\n",
              "      <td>@paulgwine</td>\n",
              "      <td>Sweet Cheeks 2012 Vintner's Reserve Wild Child...</td>\n",
              "      <td>Pinot Noir</td>\n",
              "      <td>Sweet Cheeks</td>\n",
              "      <td>everyone</td>\n",
              "      <td>129967</td>\n",
              "    </tr>\n",
              "  </tbody>\n",
              "</table>\n",
              "</div>"
            ],
            "text/plain": [
              "    country  ... index_backwards\n",
              "0     Italy  ...          129971\n",
              "1  Portugal  ...          129970\n",
              "2        US  ...          129969\n",
              "3        US  ...          129968\n",
              "4        US  ...          129967\n",
              "\n",
              "[5 rows x 15 columns]"
            ]
          },
          "metadata": {},
          "execution_count": 57
        }
      ]
    },
    {
      "cell_type": "code",
      "metadata": {
        "colab": {
          "base_uri": "https://localhost:8080/"
        },
        "id": "G72eLX4LI9pl",
        "outputId": "d512fa55-029b-436d-a9ad-2fd9637cfe5f"
      },
      "source": [
        "review_points_mean = wine_reviews.points.mean()\n",
        "wine_reviews.points - review_points_mean"
      ],
      "execution_count": 58,
      "outputs": [
        {
          "output_type": "execute_result",
          "data": {
            "text/plain": [
              "0        -1.447138\n",
              "1        -1.447138\n",
              "            ...   \n",
              "129969    1.552862\n",
              "129970    1.552862\n",
              "Name: points, Length: 129971, dtype: float64"
            ]
          },
          "metadata": {},
          "execution_count": 58
        }
      ]
    },
    {
      "cell_type": "markdown",
      "metadata": {
        "id": "wzGPAY7gJIzH"
      },
      "source": [
        "In this code we are performing an operation between a lot of values on the left-hand side (everything in the Series) and a single value on the right-hand side (the mean value). Pandas looks at this expression and figures out that we must mean to subtract that mean value from every value in the dataset.\n",
        "\n",
        "Pandas will also understand what to do if we perform these operations between Series of equal length. For example, an easy way of combining country and region information in the dataset would be to do the following:"
      ]
    },
    {
      "cell_type": "code",
      "metadata": {
        "colab": {
          "base_uri": "https://localhost:8080/"
        },
        "id": "tO5CqOgvJDWu",
        "outputId": "0de01117-69c2-405e-ccb3-43fbc97cad42"
      },
      "source": [
        "wine_reviews['country'] + \" - \" + wine_reviews['region_1']"
      ],
      "execution_count": 60,
      "outputs": [
        {
          "output_type": "execute_result",
          "data": {
            "text/plain": [
              "0            Italy - Etna\n",
              "1                     NaN\n",
              "               ...       \n",
              "129969    France - Alsace\n",
              "129970    France - Alsace\n",
              "Length: 129971, dtype: object"
            ]
          },
          "metadata": {},
          "execution_count": 60
        }
      ]
    },
    {
      "cell_type": "markdown",
      "metadata": {
        "id": "9Z7mrPwDKatm"
      },
      "source": [
        "These operators are faster than map() or apply() because they uses speed ups built into pandas. All of the standard Python operators (>, <, ==, and so on) work in this manner.\n",
        "\n",
        "However, they are not as flexible as map() or apply(), which can do more advanced things, like applying conditional logic, which cannot be done with addition and subtraction alone."
      ]
    },
    {
      "cell_type": "markdown",
      "metadata": {
        "id": "9Iqx0C4rLnbs"
      },
      "source": [
        "# Grouping By and Sorting"
      ]
    },
    {
      "cell_type": "markdown",
      "metadata": {
        "id": "r_6QhLZFLumm"
      },
      "source": [
        "Maps allow us to transform data in a DataFrame or Series one value at a time for an entire column. However, often we want to group our data, and then do something specific to the group the data is in.\n",
        "\n",
        "As you'll learn, we do this with the groupby() operation. We'll also cover some additional topics, such as more complex ways to index your DataFrames, along with how to sort your data."
      ]
    },
    {
      "cell_type": "code",
      "metadata": {
        "colab": {
          "base_uri": "https://localhost:8080/"
        },
        "id": "MSjGqBaDJUQ8",
        "outputId": "1f21e09a-fc97-4b02-9aac-82e0b7e4914e"
      },
      "source": [
        "wine_reviews.groupby('points')['points'].count()"
      ],
      "execution_count": 61,
      "outputs": [
        {
          "output_type": "execute_result",
          "data": {
            "text/plain": [
              "points\n",
              "80     397\n",
              "81     692\n",
              "      ... \n",
              "99      33\n",
              "100     19\n",
              "Name: points, Length: 21, dtype: int64"
            ]
          },
          "metadata": {},
          "execution_count": 61
        }
      ]
    },
    {
      "cell_type": "markdown",
      "metadata": {
        "id": "bNWkAgulMEMK"
      },
      "source": [
        "groupby() created a group of reviews which allotted the same point values to the given wines. Then, for each of these groups, we grabbed the points() column and counted how many times it appeared. value_counts() is just a shortcut to this groupby() operation.\n",
        "\n",
        "We can use any of the summary functions we've used before with this data. For example, to get the cheapest wine in each point value category, we can do the following:"
      ]
    },
    {
      "cell_type": "code",
      "metadata": {
        "colab": {
          "base_uri": "https://localhost:8080/"
        },
        "id": "aaH7T7jIME7I",
        "outputId": "7574f9aa-0909-478a-95b2-38c49a60947c"
      },
      "source": [
        "wine_reviews.groupby('points')['price'].min()"
      ],
      "execution_count": 62,
      "outputs": [
        {
          "output_type": "execute_result",
          "data": {
            "text/plain": [
              "points\n",
              "80      5.0\n",
              "81      5.0\n",
              "       ... \n",
              "99     44.0\n",
              "100    80.0\n",
              "Name: price, Length: 21, dtype: float64"
            ]
          },
          "metadata": {},
          "execution_count": 62
        }
      ]
    },
    {
      "cell_type": "code",
      "metadata": {
        "colab": {
          "base_uri": "https://localhost:8080/"
        },
        "id": "thK6B7bVMYnz",
        "outputId": "f69b5eed-f025-43ea-b1d0-15693e19d963"
      },
      "source": [
        "wine_reviews.groupby('points')['price'].max()"
      ],
      "execution_count": 63,
      "outputs": [
        {
          "output_type": "execute_result",
          "data": {
            "text/plain": [
              "points\n",
              "80       69.0\n",
              "81      130.0\n",
              "        ...  \n",
              "99      850.0\n",
              "100    1500.0\n",
              "Name: price, Length: 21, dtype: float64"
            ]
          },
          "metadata": {},
          "execution_count": 63
        }
      ]
    },
    {
      "cell_type": "markdown",
      "metadata": {
        "id": "idqFm0ErMki2"
      },
      "source": [
        "You can think of each group we generate as being a slice of our DataFrame containing only data with values that match. This DataFrame is accessible to us directly using the apply() method, and we can then manipulate the data in any way we see fit. For example, here's one way of selecting the name of the first wine reviewed from each winery in the dataset:"
      ]
    },
    {
      "cell_type": "code",
      "metadata": {
        "colab": {
          "base_uri": "https://localhost:8080/"
        },
        "id": "KQ3-PkU5Ma1T",
        "outputId": "9ca734d6-1734-4a1c-8410-f717110fe826"
      },
      "source": [
        "wine_reviews.groupby('winery').apply(lambda df: df.title.iloc[0])"
      ],
      "execution_count": 64,
      "outputs": [
        {
          "output_type": "execute_result",
          "data": {
            "text/plain": [
              "winery\n",
              "1+1=3                          1+1=3 NV Rosé Sparkling (Cava)\n",
              "10 Knots                 10 Knots 2010 Viognier (Paso Robles)\n",
              "                                  ...                        \n",
              "àMaurice    àMaurice 2013 Fred Estate Syrah (Walla Walla V...\n",
              "Štoka                         Štoka 2009 Izbrani Teran (Kras)\n",
              "Length: 16757, dtype: object"
            ]
          },
          "metadata": {},
          "execution_count": 64
        }
      ]
    },
    {
      "cell_type": "markdown",
      "metadata": {
        "id": "-LbsC6RpP-kl"
      },
      "source": [
        "For even more fine-grained control, you can also group by more than one column. For an example, here's how we would pick out the best wine by country and province:"
      ]
    },
    {
      "cell_type": "code",
      "metadata": {
        "colab": {
          "base_uri": "https://localhost:8080/",
          "height": 675
        },
        "id": "sy2OLm9vP_L3",
        "outputId": "5a6297a4-d54b-4826-d5e7-c910b5fa053c"
      },
      "source": [
        "wine_reviews.groupby(['country', 'province']).apply(lambda df: df.loc[df.points.idxmax()])"
      ],
      "execution_count": 65,
      "outputs": [
        {
          "output_type": "execute_result",
          "data": {
            "text/html": [
              "<div>\n",
              "<style scoped>\n",
              "    .dataframe tbody tr th:only-of-type {\n",
              "        vertical-align: middle;\n",
              "    }\n",
              "\n",
              "    .dataframe tbody tr th {\n",
              "        vertical-align: top;\n",
              "    }\n",
              "\n",
              "    .dataframe thead th {\n",
              "        text-align: right;\n",
              "    }\n",
              "</style>\n",
              "<table border=\"1\" class=\"dataframe\">\n",
              "  <thead>\n",
              "    <tr style=\"text-align: right;\">\n",
              "      <th></th>\n",
              "      <th></th>\n",
              "      <th>country</th>\n",
              "      <th>description</th>\n",
              "      <th>designation</th>\n",
              "      <th>points</th>\n",
              "      <th>price</th>\n",
              "      <th>province</th>\n",
              "      <th>region_1</th>\n",
              "      <th>region_2</th>\n",
              "      <th>taster_name</th>\n",
              "      <th>taster_twitter_handle</th>\n",
              "      <th>title</th>\n",
              "      <th>variety</th>\n",
              "      <th>winery</th>\n",
              "      <th>critic</th>\n",
              "      <th>index_backwards</th>\n",
              "    </tr>\n",
              "    <tr>\n",
              "      <th>country</th>\n",
              "      <th>province</th>\n",
              "      <th></th>\n",
              "      <th></th>\n",
              "      <th></th>\n",
              "      <th></th>\n",
              "      <th></th>\n",
              "      <th></th>\n",
              "      <th></th>\n",
              "      <th></th>\n",
              "      <th></th>\n",
              "      <th></th>\n",
              "      <th></th>\n",
              "      <th></th>\n",
              "      <th></th>\n",
              "      <th></th>\n",
              "      <th></th>\n",
              "    </tr>\n",
              "  </thead>\n",
              "  <tbody>\n",
              "    <tr>\n",
              "      <th rowspan=\"2\" valign=\"top\">Argentina</th>\n",
              "      <th>Mendoza Province</th>\n",
              "      <td>Argentina</td>\n",
              "      <td>If the color doesn't tell the full story, the ...</td>\n",
              "      <td>Nicasia Vineyard</td>\n",
              "      <td>97</td>\n",
              "      <td>120.0</td>\n",
              "      <td>Mendoza Province</td>\n",
              "      <td>Mendoza</td>\n",
              "      <td>NaN</td>\n",
              "      <td>Michael Schachner</td>\n",
              "      <td>@wineschach</td>\n",
              "      <td>Bodega Catena Zapata 2006 Nicasia Vineyard Mal...</td>\n",
              "      <td>Malbec</td>\n",
              "      <td>Bodega Catena Zapata</td>\n",
              "      <td>everyone</td>\n",
              "      <td>47217</td>\n",
              "    </tr>\n",
              "    <tr>\n",
              "      <th>Other</th>\n",
              "      <td>Argentina</td>\n",
              "      <td>Take note, this could be the best wine Colomé ...</td>\n",
              "      <td>Reserva</td>\n",
              "      <td>95</td>\n",
              "      <td>90.0</td>\n",
              "      <td>Other</td>\n",
              "      <td>Salta</td>\n",
              "      <td>NaN</td>\n",
              "      <td>Michael Schachner</td>\n",
              "      <td>@wineschach</td>\n",
              "      <td>Colomé 2010 Reserva Malbec (Salta)</td>\n",
              "      <td>Malbec</td>\n",
              "      <td>Colomé</td>\n",
              "      <td>everyone</td>\n",
              "      <td>51668</td>\n",
              "    </tr>\n",
              "    <tr>\n",
              "      <th>...</th>\n",
              "      <th>...</th>\n",
              "      <td>...</td>\n",
              "      <td>...</td>\n",
              "      <td>...</td>\n",
              "      <td>...</td>\n",
              "      <td>...</td>\n",
              "      <td>...</td>\n",
              "      <td>...</td>\n",
              "      <td>...</td>\n",
              "      <td>...</td>\n",
              "      <td>...</td>\n",
              "      <td>...</td>\n",
              "      <td>...</td>\n",
              "      <td>...</td>\n",
              "      <td>...</td>\n",
              "      <td>...</td>\n",
              "    </tr>\n",
              "    <tr>\n",
              "      <th rowspan=\"2\" valign=\"top\">Uruguay</th>\n",
              "      <th>San Jose</th>\n",
              "      <td>Uruguay</td>\n",
              "      <td>Baked, sweet, heavy aromas turn earthy with ti...</td>\n",
              "      <td>El Preciado Gran Reserva</td>\n",
              "      <td>87</td>\n",
              "      <td>50.0</td>\n",
              "      <td>San Jose</td>\n",
              "      <td>NaN</td>\n",
              "      <td>NaN</td>\n",
              "      <td>Michael Schachner</td>\n",
              "      <td>@wineschach</td>\n",
              "      <td>Castillo Viejo 2005 El Preciado Gran Reserva R...</td>\n",
              "      <td>Red Blend</td>\n",
              "      <td>Castillo Viejo</td>\n",
              "      <td>everyone</td>\n",
              "      <td>90073</td>\n",
              "    </tr>\n",
              "    <tr>\n",
              "      <th>Uruguay</th>\n",
              "      <td>Uruguay</td>\n",
              "      <td>Cherry and berry aromas are ripe, healthy and ...</td>\n",
              "      <td>Blend 002 Limited Edition</td>\n",
              "      <td>91</td>\n",
              "      <td>22.0</td>\n",
              "      <td>Uruguay</td>\n",
              "      <td>NaN</td>\n",
              "      <td>NaN</td>\n",
              "      <td>Michael Schachner</td>\n",
              "      <td>@wineschach</td>\n",
              "      <td>Narbona NV Blend 002 Limited Edition Tannat-Ca...</td>\n",
              "      <td>Tannat-Cabernet Franc</td>\n",
              "      <td>Narbona</td>\n",
              "      <td>everyone</td>\n",
              "      <td>90610</td>\n",
              "    </tr>\n",
              "  </tbody>\n",
              "</table>\n",
              "<p>425 rows × 15 columns</p>\n",
              "</div>"
            ],
            "text/plain": [
              "                              country  ... index_backwards\n",
              "country   province                     ...                \n",
              "Argentina Mendoza Province  Argentina  ...           47217\n",
              "          Other             Argentina  ...           51668\n",
              "...                               ...  ...             ...\n",
              "Uruguay   San Jose            Uruguay  ...           90073\n",
              "          Uruguay             Uruguay  ...           90610\n",
              "\n",
              "[425 rows x 15 columns]"
            ]
          },
          "metadata": {},
          "execution_count": 65
        }
      ]
    },
    {
      "cell_type": "markdown",
      "metadata": {
        "id": "JBMjP84qQUiC"
      },
      "source": [
        "Another groupby() method worth mentioning is agg(), which lets you run a bunch of different functions on your DataFrame simultaneously. For example, we can generate a simple statistical summary of the dataset as follows:"
      ]
    },
    {
      "cell_type": "code",
      "metadata": {
        "colab": {
          "base_uri": "https://localhost:8080/",
          "height": 264
        },
        "id": "Um2-VKTlQTcg",
        "outputId": "ff4846d7-ea4f-48d2-acb0-cac537d14b98"
      },
      "source": [
        "wine_reviews.groupby(['country'])['price'].agg([len, min, max])"
      ],
      "execution_count": 67,
      "outputs": [
        {
          "output_type": "execute_result",
          "data": {
            "text/html": [
              "<div>\n",
              "<style scoped>\n",
              "    .dataframe tbody tr th:only-of-type {\n",
              "        vertical-align: middle;\n",
              "    }\n",
              "\n",
              "    .dataframe tbody tr th {\n",
              "        vertical-align: top;\n",
              "    }\n",
              "\n",
              "    .dataframe thead th {\n",
              "        text-align: right;\n",
              "    }\n",
              "</style>\n",
              "<table border=\"1\" class=\"dataframe\">\n",
              "  <thead>\n",
              "    <tr style=\"text-align: right;\">\n",
              "      <th></th>\n",
              "      <th>len</th>\n",
              "      <th>min</th>\n",
              "      <th>max</th>\n",
              "    </tr>\n",
              "    <tr>\n",
              "      <th>country</th>\n",
              "      <th></th>\n",
              "      <th></th>\n",
              "      <th></th>\n",
              "    </tr>\n",
              "  </thead>\n",
              "  <tbody>\n",
              "    <tr>\n",
              "      <th>Argentina</th>\n",
              "      <td>3800.0</td>\n",
              "      <td>4.0</td>\n",
              "      <td>230.0</td>\n",
              "    </tr>\n",
              "    <tr>\n",
              "      <th>Armenia</th>\n",
              "      <td>2.0</td>\n",
              "      <td>14.0</td>\n",
              "      <td>15.0</td>\n",
              "    </tr>\n",
              "    <tr>\n",
              "      <th>...</th>\n",
              "      <td>...</td>\n",
              "      <td>...</td>\n",
              "      <td>...</td>\n",
              "    </tr>\n",
              "    <tr>\n",
              "      <th>Ukraine</th>\n",
              "      <td>14.0</td>\n",
              "      <td>6.0</td>\n",
              "      <td>13.0</td>\n",
              "    </tr>\n",
              "    <tr>\n",
              "      <th>Uruguay</th>\n",
              "      <td>109.0</td>\n",
              "      <td>10.0</td>\n",
              "      <td>130.0</td>\n",
              "    </tr>\n",
              "  </tbody>\n",
              "</table>\n",
              "<p>43 rows × 3 columns</p>\n",
              "</div>"
            ],
            "text/plain": [
              "              len   min    max\n",
              "country                       \n",
              "Argentina  3800.0   4.0  230.0\n",
              "Armenia       2.0  14.0   15.0\n",
              "...           ...   ...    ...\n",
              "Ukraine      14.0   6.0   13.0\n",
              "Uruguay     109.0  10.0  130.0\n",
              "\n",
              "[43 rows x 3 columns]"
            ]
          },
          "metadata": {},
          "execution_count": 67
        }
      ]
    },
    {
      "cell_type": "markdown",
      "metadata": {
        "id": "z4v9LAGHQo4-"
      },
      "source": [
        "Multi-indexes\n",
        "In all of the examples we've seen thus far we've been working with DataFrame or Series objects with a single-label index. groupby() is slightly different in the fact that, depending on the operation we run, it will sometimes result in what is called a multi-index.\n",
        "\n",
        "A multi-index differs from a regular index in that it has multiple levels. For example:"
      ]
    },
    {
      "cell_type": "code",
      "metadata": {
        "colab": {
          "base_uri": "https://localhost:8080/",
          "height": 264
        },
        "id": "2yiiO_GAQppz",
        "outputId": "bbd17c1e-d1a0-43c4-dae2-5f746ce25689"
      },
      "source": [
        "countries_reviewed = wine_reviews.groupby(['country', 'province']).description.agg([len])\n",
        "countries_reviewed"
      ],
      "execution_count": 68,
      "outputs": [
        {
          "output_type": "execute_result",
          "data": {
            "text/html": [
              "<div>\n",
              "<style scoped>\n",
              "    .dataframe tbody tr th:only-of-type {\n",
              "        vertical-align: middle;\n",
              "    }\n",
              "\n",
              "    .dataframe tbody tr th {\n",
              "        vertical-align: top;\n",
              "    }\n",
              "\n",
              "    .dataframe thead th {\n",
              "        text-align: right;\n",
              "    }\n",
              "</style>\n",
              "<table border=\"1\" class=\"dataframe\">\n",
              "  <thead>\n",
              "    <tr style=\"text-align: right;\">\n",
              "      <th></th>\n",
              "      <th></th>\n",
              "      <th>len</th>\n",
              "    </tr>\n",
              "    <tr>\n",
              "      <th>country</th>\n",
              "      <th>province</th>\n",
              "      <th></th>\n",
              "    </tr>\n",
              "  </thead>\n",
              "  <tbody>\n",
              "    <tr>\n",
              "      <th rowspan=\"2\" valign=\"top\">Argentina</th>\n",
              "      <th>Mendoza Province</th>\n",
              "      <td>3264</td>\n",
              "    </tr>\n",
              "    <tr>\n",
              "      <th>Other</th>\n",
              "      <td>536</td>\n",
              "    </tr>\n",
              "    <tr>\n",
              "      <th>...</th>\n",
              "      <th>...</th>\n",
              "      <td>...</td>\n",
              "    </tr>\n",
              "    <tr>\n",
              "      <th rowspan=\"2\" valign=\"top\">Uruguay</th>\n",
              "      <th>San Jose</th>\n",
              "      <td>3</td>\n",
              "    </tr>\n",
              "    <tr>\n",
              "      <th>Uruguay</th>\n",
              "      <td>24</td>\n",
              "    </tr>\n",
              "  </tbody>\n",
              "</table>\n",
              "<p>425 rows × 1 columns</p>\n",
              "</div>"
            ],
            "text/plain": [
              "                             len\n",
              "country   province              \n",
              "Argentina Mendoza Province  3264\n",
              "          Other              536\n",
              "...                          ...\n",
              "Uruguay   San Jose             3\n",
              "          Uruguay             24\n",
              "\n",
              "[425 rows x 1 columns]"
            ]
          },
          "metadata": {},
          "execution_count": 68
        }
      ]
    },
    {
      "cell_type": "code",
      "metadata": {
        "colab": {
          "base_uri": "https://localhost:8080/"
        },
        "id": "AQ85azq3QzJv",
        "outputId": "463f2129-2e90-4783-dabb-9ee62126b239"
      },
      "source": [
        "mi = countries_reviewed.index\n",
        "type(mi)"
      ],
      "execution_count": 69,
      "outputs": [
        {
          "output_type": "execute_result",
          "data": {
            "text/plain": [
              "pandas.core.indexes.multi.MultiIndex"
            ]
          },
          "metadata": {},
          "execution_count": 69
        }
      ]
    },
    {
      "cell_type": "markdown",
      "metadata": {
        "id": "wloBWdfgQ4NH"
      },
      "source": [
        "Multi-indices have several methods for dealing with their tiered structure which are absent for single-level indices. They also require two levels of labels to retrieve a value. Dealing with multi-index output is a common \"gotcha\" for users new to pandas.\n",
        "\n",
        "The use cases for a multi-index are detailed alongside instructions on using them in the MultiIndex / Advanced Selection section of the pandas documentation.\n",
        "\n",
        "However, in general the multi-index method you will use most often is the one for converting back to a regular index, the reset_index() method:"
      ]
    },
    {
      "cell_type": "code",
      "metadata": {
        "colab": {
          "base_uri": "https://localhost:8080/",
          "height": 233
        },
        "id": "ZXMI6c4JQ44i",
        "outputId": "b2cedc2b-8b44-4edf-f717-b9fe2c68d470"
      },
      "source": [
        "countries_reviewed.reset_index()"
      ],
      "execution_count": 70,
      "outputs": [
        {
          "output_type": "execute_result",
          "data": {
            "text/html": [
              "<div>\n",
              "<style scoped>\n",
              "    .dataframe tbody tr th:only-of-type {\n",
              "        vertical-align: middle;\n",
              "    }\n",
              "\n",
              "    .dataframe tbody tr th {\n",
              "        vertical-align: top;\n",
              "    }\n",
              "\n",
              "    .dataframe thead th {\n",
              "        text-align: right;\n",
              "    }\n",
              "</style>\n",
              "<table border=\"1\" class=\"dataframe\">\n",
              "  <thead>\n",
              "    <tr style=\"text-align: right;\">\n",
              "      <th></th>\n",
              "      <th>country</th>\n",
              "      <th>province</th>\n",
              "      <th>len</th>\n",
              "    </tr>\n",
              "  </thead>\n",
              "  <tbody>\n",
              "    <tr>\n",
              "      <th>0</th>\n",
              "      <td>Argentina</td>\n",
              "      <td>Mendoza Province</td>\n",
              "      <td>3264</td>\n",
              "    </tr>\n",
              "    <tr>\n",
              "      <th>1</th>\n",
              "      <td>Argentina</td>\n",
              "      <td>Other</td>\n",
              "      <td>536</td>\n",
              "    </tr>\n",
              "    <tr>\n",
              "      <th>...</th>\n",
              "      <td>...</td>\n",
              "      <td>...</td>\n",
              "      <td>...</td>\n",
              "    </tr>\n",
              "    <tr>\n",
              "      <th>423</th>\n",
              "      <td>Uruguay</td>\n",
              "      <td>San Jose</td>\n",
              "      <td>3</td>\n",
              "    </tr>\n",
              "    <tr>\n",
              "      <th>424</th>\n",
              "      <td>Uruguay</td>\n",
              "      <td>Uruguay</td>\n",
              "      <td>24</td>\n",
              "    </tr>\n",
              "  </tbody>\n",
              "</table>\n",
              "<p>425 rows × 3 columns</p>\n",
              "</div>"
            ],
            "text/plain": [
              "       country          province   len\n",
              "0    Argentina  Mendoza Province  3264\n",
              "1    Argentina             Other   536\n",
              "..         ...               ...   ...\n",
              "423    Uruguay          San Jose     3\n",
              "424    Uruguay           Uruguay    24\n",
              "\n",
              "[425 rows x 3 columns]"
            ]
          },
          "metadata": {},
          "execution_count": 70
        }
      ]
    },
    {
      "cell_type": "markdown",
      "metadata": {
        "id": "vhpf3px1RRX-"
      },
      "source": [
        "# Sorting\n",
        "\n",
        "Looking again at countries_reviewed we can see that grouping returns data in index order, not in value order. That is to say, when outputting the result of a groupby, the order of the rows is dependent on the values in the index, not in the data.\n",
        "\n",
        "To get data in the order want it in we can sort it ourselves. The sort_values() method is handy for this."
      ]
    },
    {
      "cell_type": "code",
      "metadata": {
        "colab": {
          "base_uri": "https://localhost:8080/",
          "height": 233
        },
        "id": "RlA6pfvORX0C",
        "outputId": "ea00d48e-3683-48ba-ebca-13cbb8b262f8"
      },
      "source": [
        "countries_reviewed = countries_reviewed.reset_index()\n",
        "countries_reviewed.sort_values(by='len')"
      ],
      "execution_count": 71,
      "outputs": [
        {
          "output_type": "execute_result",
          "data": {
            "text/html": [
              "<div>\n",
              "<style scoped>\n",
              "    .dataframe tbody tr th:only-of-type {\n",
              "        vertical-align: middle;\n",
              "    }\n",
              "\n",
              "    .dataframe tbody tr th {\n",
              "        vertical-align: top;\n",
              "    }\n",
              "\n",
              "    .dataframe thead th {\n",
              "        text-align: right;\n",
              "    }\n",
              "</style>\n",
              "<table border=\"1\" class=\"dataframe\">\n",
              "  <thead>\n",
              "    <tr style=\"text-align: right;\">\n",
              "      <th></th>\n",
              "      <th>country</th>\n",
              "      <th>province</th>\n",
              "      <th>len</th>\n",
              "    </tr>\n",
              "  </thead>\n",
              "  <tbody>\n",
              "    <tr>\n",
              "      <th>179</th>\n",
              "      <td>Greece</td>\n",
              "      <td>Muscat of Kefallonian</td>\n",
              "      <td>1</td>\n",
              "    </tr>\n",
              "    <tr>\n",
              "      <th>192</th>\n",
              "      <td>Greece</td>\n",
              "      <td>Sterea Ellada</td>\n",
              "      <td>1</td>\n",
              "    </tr>\n",
              "    <tr>\n",
              "      <th>...</th>\n",
              "      <td>...</td>\n",
              "      <td>...</td>\n",
              "      <td>...</td>\n",
              "    </tr>\n",
              "    <tr>\n",
              "      <th>415</th>\n",
              "      <td>US</td>\n",
              "      <td>Washington</td>\n",
              "      <td>8639</td>\n",
              "    </tr>\n",
              "    <tr>\n",
              "      <th>392</th>\n",
              "      <td>US</td>\n",
              "      <td>California</td>\n",
              "      <td>36247</td>\n",
              "    </tr>\n",
              "  </tbody>\n",
              "</table>\n",
              "<p>425 rows × 3 columns</p>\n",
              "</div>"
            ],
            "text/plain": [
              "    country               province    len\n",
              "179  Greece  Muscat of Kefallonian      1\n",
              "192  Greece          Sterea Ellada      1\n",
              "..      ...                    ...    ...\n",
              "415      US             Washington   8639\n",
              "392      US             California  36247\n",
              "\n",
              "[425 rows x 3 columns]"
            ]
          },
          "metadata": {},
          "execution_count": 71
        }
      ]
    },
    {
      "cell_type": "markdown",
      "metadata": {
        "id": "prWcg2YbRdV-"
      },
      "source": [
        "sort_values() defaults to an ascending sort, where the lowest values go first. However, most of the time we want a descending sort, where the higher numbers go first. That goes thusly:"
      ]
    },
    {
      "cell_type": "code",
      "metadata": {
        "colab": {
          "base_uri": "https://localhost:8080/",
          "height": 233
        },
        "id": "rrfSiuwLRefj",
        "outputId": "186d9170-5795-4ca3-9c1a-b8cab98cf5d9"
      },
      "source": [
        "countries_reviewed.sort_values(by='len', ascending=False)"
      ],
      "execution_count": 72,
      "outputs": [
        {
          "output_type": "execute_result",
          "data": {
            "text/html": [
              "<div>\n",
              "<style scoped>\n",
              "    .dataframe tbody tr th:only-of-type {\n",
              "        vertical-align: middle;\n",
              "    }\n",
              "\n",
              "    .dataframe tbody tr th {\n",
              "        vertical-align: top;\n",
              "    }\n",
              "\n",
              "    .dataframe thead th {\n",
              "        text-align: right;\n",
              "    }\n",
              "</style>\n",
              "<table border=\"1\" class=\"dataframe\">\n",
              "  <thead>\n",
              "    <tr style=\"text-align: right;\">\n",
              "      <th></th>\n",
              "      <th>country</th>\n",
              "      <th>province</th>\n",
              "      <th>len</th>\n",
              "    </tr>\n",
              "  </thead>\n",
              "  <tbody>\n",
              "    <tr>\n",
              "      <th>392</th>\n",
              "      <td>US</td>\n",
              "      <td>California</td>\n",
              "      <td>36247</td>\n",
              "    </tr>\n",
              "    <tr>\n",
              "      <th>415</th>\n",
              "      <td>US</td>\n",
              "      <td>Washington</td>\n",
              "      <td>8639</td>\n",
              "    </tr>\n",
              "    <tr>\n",
              "      <th>...</th>\n",
              "      <td>...</td>\n",
              "      <td>...</td>\n",
              "      <td>...</td>\n",
              "    </tr>\n",
              "    <tr>\n",
              "      <th>63</th>\n",
              "      <td>Chile</td>\n",
              "      <td>Coelemu</td>\n",
              "      <td>1</td>\n",
              "    </tr>\n",
              "    <tr>\n",
              "      <th>149</th>\n",
              "      <td>Greece</td>\n",
              "      <td>Beotia</td>\n",
              "      <td>1</td>\n",
              "    </tr>\n",
              "  </tbody>\n",
              "</table>\n",
              "<p>425 rows × 3 columns</p>\n",
              "</div>"
            ],
            "text/plain": [
              "    country    province    len\n",
              "392      US  California  36247\n",
              "415      US  Washington   8639\n",
              "..      ...         ...    ...\n",
              "63    Chile     Coelemu      1\n",
              "149  Greece      Beotia      1\n",
              "\n",
              "[425 rows x 3 columns]"
            ]
          },
          "metadata": {},
          "execution_count": 72
        }
      ]
    },
    {
      "cell_type": "code",
      "metadata": {
        "colab": {
          "base_uri": "https://localhost:8080/",
          "height": 233
        },
        "id": "bxZaBZTQRlPh",
        "outputId": "fc48e93e-64fb-452d-e1f6-db1cd8e545a3"
      },
      "source": [
        "countries_reviewed.sort_index()"
      ],
      "execution_count": 73,
      "outputs": [
        {
          "output_type": "execute_result",
          "data": {
            "text/html": [
              "<div>\n",
              "<style scoped>\n",
              "    .dataframe tbody tr th:only-of-type {\n",
              "        vertical-align: middle;\n",
              "    }\n",
              "\n",
              "    .dataframe tbody tr th {\n",
              "        vertical-align: top;\n",
              "    }\n",
              "\n",
              "    .dataframe thead th {\n",
              "        text-align: right;\n",
              "    }\n",
              "</style>\n",
              "<table border=\"1\" class=\"dataframe\">\n",
              "  <thead>\n",
              "    <tr style=\"text-align: right;\">\n",
              "      <th></th>\n",
              "      <th>country</th>\n",
              "      <th>province</th>\n",
              "      <th>len</th>\n",
              "    </tr>\n",
              "  </thead>\n",
              "  <tbody>\n",
              "    <tr>\n",
              "      <th>0</th>\n",
              "      <td>Argentina</td>\n",
              "      <td>Mendoza Province</td>\n",
              "      <td>3264</td>\n",
              "    </tr>\n",
              "    <tr>\n",
              "      <th>1</th>\n",
              "      <td>Argentina</td>\n",
              "      <td>Other</td>\n",
              "      <td>536</td>\n",
              "    </tr>\n",
              "    <tr>\n",
              "      <th>...</th>\n",
              "      <td>...</td>\n",
              "      <td>...</td>\n",
              "      <td>...</td>\n",
              "    </tr>\n",
              "    <tr>\n",
              "      <th>423</th>\n",
              "      <td>Uruguay</td>\n",
              "      <td>San Jose</td>\n",
              "      <td>3</td>\n",
              "    </tr>\n",
              "    <tr>\n",
              "      <th>424</th>\n",
              "      <td>Uruguay</td>\n",
              "      <td>Uruguay</td>\n",
              "      <td>24</td>\n",
              "    </tr>\n",
              "  </tbody>\n",
              "</table>\n",
              "<p>425 rows × 3 columns</p>\n",
              "</div>"
            ],
            "text/plain": [
              "       country          province   len\n",
              "0    Argentina  Mendoza Province  3264\n",
              "1    Argentina             Other   536\n",
              "..         ...               ...   ...\n",
              "423    Uruguay          San Jose     3\n",
              "424    Uruguay           Uruguay    24\n",
              "\n",
              "[425 rows x 3 columns]"
            ]
          },
          "metadata": {},
          "execution_count": 73
        }
      ]
    },
    {
      "cell_type": "code",
      "metadata": {
        "colab": {
          "base_uri": "https://localhost:8080/",
          "height": 233
        },
        "id": "QZF42y22RqeN",
        "outputId": "635ac509-9ba6-4163-fcf3-811cf825664e"
      },
      "source": [
        "countries_reviewed.sort_values(by=['country', 'len'])"
      ],
      "execution_count": 74,
      "outputs": [
        {
          "output_type": "execute_result",
          "data": {
            "text/html": [
              "<div>\n",
              "<style scoped>\n",
              "    .dataframe tbody tr th:only-of-type {\n",
              "        vertical-align: middle;\n",
              "    }\n",
              "\n",
              "    .dataframe tbody tr th {\n",
              "        vertical-align: top;\n",
              "    }\n",
              "\n",
              "    .dataframe thead th {\n",
              "        text-align: right;\n",
              "    }\n",
              "</style>\n",
              "<table border=\"1\" class=\"dataframe\">\n",
              "  <thead>\n",
              "    <tr style=\"text-align: right;\">\n",
              "      <th></th>\n",
              "      <th>country</th>\n",
              "      <th>province</th>\n",
              "      <th>len</th>\n",
              "    </tr>\n",
              "  </thead>\n",
              "  <tbody>\n",
              "    <tr>\n",
              "      <th>1</th>\n",
              "      <td>Argentina</td>\n",
              "      <td>Other</td>\n",
              "      <td>536</td>\n",
              "    </tr>\n",
              "    <tr>\n",
              "      <th>0</th>\n",
              "      <td>Argentina</td>\n",
              "      <td>Mendoza Province</td>\n",
              "      <td>3264</td>\n",
              "    </tr>\n",
              "    <tr>\n",
              "      <th>...</th>\n",
              "      <td>...</td>\n",
              "      <td>...</td>\n",
              "      <td>...</td>\n",
              "    </tr>\n",
              "    <tr>\n",
              "      <th>424</th>\n",
              "      <td>Uruguay</td>\n",
              "      <td>Uruguay</td>\n",
              "      <td>24</td>\n",
              "    </tr>\n",
              "    <tr>\n",
              "      <th>419</th>\n",
              "      <td>Uruguay</td>\n",
              "      <td>Canelones</td>\n",
              "      <td>43</td>\n",
              "    </tr>\n",
              "  </tbody>\n",
              "</table>\n",
              "<p>425 rows × 3 columns</p>\n",
              "</div>"
            ],
            "text/plain": [
              "       country          province   len\n",
              "1    Argentina             Other   536\n",
              "0    Argentina  Mendoza Province  3264\n",
              "..         ...               ...   ...\n",
              "424    Uruguay           Uruguay    24\n",
              "419    Uruguay         Canelones    43\n",
              "\n",
              "[425 rows x 3 columns]"
            ]
          },
          "metadata": {},
          "execution_count": 74
        }
      ]
    }
  ]
}